{
 "metadata": {
  "name": "",
  "signature": "sha256:ca7cc16d0216c0b1ec9249ec5a8322db148fc404add5bee4e632a005b09a393d"
 },
 "nbformat": 3,
 "nbformat_minor": 0,
 "worksheets": [
  {
   "cells": [
    {
     "cell_type": "markdown",
     "metadata": {},
     "source": [
      "# Kelvin-Helmholtz Instability\n",
      "\n",
      "<img src=\"http://www.flame.org/~cdoswell/SuptorRoles/Vortex%20Sheet%20Model%20copy.jpg\" width=\"254\" height=\"300\" />\n",
      "\n",
      "(image: Chuck Doswell)\n",
      "\n",
      "We will simulate the incompressible Kelvin-Helmholtz problem.  We non-dimensionalize the problem by taking the box height to be one and the jump in velocity to be one.  Then the Reynolds number is given by\n",
      "\n",
      "$ {\\rm Re} = \\frac{U H}{\\nu} = \\frac{1}{\\nu}. $\n",
      "\n",
      "We use no slip boundary conditions, and a box with aspect ratio $L/H=2$.  The initial velocity profile is given by a hyperbolic tangent, and only a single mode is initially excited.  We will also track a passive scalar which will help us visualize the instability.\n",
      "\n",
      "First, we import the necessary modules."
     ]
    },
    {
     "cell_type": "code",
     "collapsed": false,
     "input": [
      "%matplotlib inline"
     ],
     "language": "python",
     "metadata": {},
     "outputs": [],
     "prompt_number": 1
    },
    {
     "cell_type": "code",
     "collapsed": false,
     "input": [
      "import numpy as np\n",
      "import matplotlib.pyplot as plt\n",
      "import h5py\n",
      "from dedalus import public as de\n",
      "from dedalus.extras import flow_tools\n",
      "import time\n",
      "from IPython import display"
     ],
     "language": "python",
     "metadata": {},
     "outputs": [],
     "prompt_number": 2
    },
    {
     "cell_type": "markdown",
     "metadata": {},
     "source": [
      "Here, we set logging to `INFO` level. Currently, by default, Dedalus sets its logging output to `DEBUG`, which produces more info than we need here."
     ]
    },
    {
     "cell_type": "code",
     "collapsed": false,
     "input": [
      "import logging\n",
      "root = logging.root\n",
      "for h in root.handlers:\n",
      "    h.setLevel(\"INFO\")\n",
      "    \n",
      "logger = logging.getLogger(__name__)"
     ],
     "language": "python",
     "metadata": {},
     "outputs": [],
     "prompt_number": 3
    },
    {
     "cell_type": "markdown",
     "metadata": {},
     "source": [
      "To perform an initial value problem (IVP) in Dedalus, you need three things:\n",
      "\n",
      "1. A domain to solve the problem on\n",
      "2. Equations to solve\n",
      "3. A timestepping scheme\n",
      "\n",
      "## Problem Domain\n",
      "\n",
      "First, we will specify the domain.  Domains are built by taking the direct product of bases.  Here we are running a 2D simulation, so we will define $x$ and $y$ bases.  From these, we build the domain."
     ]
    },
    {
     "cell_type": "code",
     "collapsed": false,
     "input": [
      "#Aspect ratio 2\n",
      "Lx, Ly = (2., 1.)\n",
      "nx, ny = (192, 96)\n",
      "\n",
      "# Create bases and domain\n",
      "x_basis = de.Fourier('x', nx, interval=(0, Lx), dealias=3/2)\n",
      "y_basis = de.Chebyshev('y',ny, interval=(-Ly/2, Ly/2), dealias=3/2)\n",
      "domain = de.Domain([x_basis, y_basis], grid_dtype=np.float64)"
     ],
     "language": "python",
     "metadata": {},
     "outputs": [],
     "prompt_number": 4
    },
    {
     "cell_type": "markdown",
     "metadata": {},
     "source": [
      "The last basis ($z$ direction) is represented in Chebyshev polynomials.  This will allow us to apply interesting boundary conditions in the $z$ direction.  We call the other directions (in this case just $x$) the \"horizontal\" directions.  The horizontal directions must be \"easy\" in the sense that taking derivatives cannot couple different horizontal modes.  Right now, we have Fourier and Sin/Cos series implemented for the horizontal directions, and are working on implementing spherical harmonics.\n",
      "\n",
      "## Equations\n",
      "\n",
      "Next we will define the equations that will be solved on this domain.  The equations are\n",
      "\n",
      "$$ \\partial_t u + \\boldsymbol{u}\\boldsymbol{\\cdot}\\boldsymbol{\\nabla} u + \\partial_x p = \\frac{1}{{\\rm Re}} \\nabla^2 u $$\n",
      "$$ \\partial_t v + \\boldsymbol{u}\\boldsymbol{\\cdot}\\boldsymbol{\\nabla} v + \\partial_y p = \\frac{1}{{\\rm Re}} \\nabla^2 v $$\n",
      "$$ \\boldsymbol{\\nabla}\\boldsymbol{\\cdot}\\boldsymbol{u} = 0 $$\n",
      "$$ \\partial_t s + \\boldsymbol{u}\\boldsymbol{\\cdot}\\boldsymbol{\\nabla} s = \\frac{1}{{\\rm Re}{\\rm Sc}} \\nabla^2 s $$\n",
      "\n",
      "The equations are written such that the left-hand side (LHS) is treated implicitly, and the right-hand side (RHS) is treated explicitly.  The LHS is limited to only linear terms, though linear terms can also be placed on the RHS.  Since $y$ is our special direction in this example, we also restrict the LHS to be at most first order in derivatives with respect to $y$.\n",
      "\n",
      "We also set the parameters, the Reynolds and Schmidt numbers."
     ]
    },
    {
     "cell_type": "code",
     "collapsed": false,
     "input": [
      "problem = de.IVP(domain, variables=['p','u','v','uy','vy','s','sy'])\n",
      "\n",
      "Reynolds = 1e4\n",
      "Schmidt = 1.\n",
      "\n",
      "problem.parameters['Re'] = Reynolds\n",
      "problem.parameters['Sc'] = Schmidt\n",
      "\n",
      "problem.add_equation(\"dt(u) + dx(p) - 1/Re*(dx(dx(u)) + dy(uy)) = - u*dx(u) - v*uy\")\n",
      "problem.add_equation(\"dt(v) + dy(p) - 1/Re*(dx(dx(v)) + dy(vy)) = - u*dx(v) - v*vy\")\n",
      "problem.add_equation(\"dx(u) + vy = 0\")\n",
      "\n",
      "problem.add_equation(\"dt(s) - 1/(Re*Sc)*(dx(dx(s)) + dy(sy)) = - u*dx(s) - v*sy\")\n",
      "\n",
      "problem.add_equation(\"uy - dy(u) = 0\")\n",
      "problem.add_equation(\"vy - dy(v) = 0\")\n",
      "problem.add_equation(\"sy - dy(s) = 0\")"
     ],
     "language": "python",
     "metadata": {},
     "outputs": [],
     "prompt_number": 5
    },
    {
     "cell_type": "markdown",
     "metadata": {},
     "source": [
      "Because we are using this first-order formalism, we define auxiliary variables `uy`, `vy`, and `sy` to be the $y$-derivative of `u`, `v`, and `s` respectively.\n",
      "\n",
      "Next, we set our boundary conditions.  \"Left\" boundary conditions are applied at $y=-Ly/2$ and \"right\" boundary conditions are applied at $y=+Ly/2$."
     ]
    },
    {
     "cell_type": "code",
     "collapsed": false,
     "input": [
      "problem.add_bc(\"left(u) = 0.5\")\n",
      "problem.add_bc(\"right(u) = -0.5\")\n",
      "problem.add_bc(\"left(v) = 0\")\n",
      "problem.add_bc(\"right(v) = 0\", condition=\"(nx != 0)\")\n",
      "problem.add_bc(\"integ(p,'y') = 0\", condition=\"(nx == 0)\")\n",
      "problem.add_bc(\"left(s) = 0\")\n",
      "problem.add_bc(\"right(s) = 1\")"
     ],
     "language": "python",
     "metadata": {},
     "outputs": [],
     "prompt_number": 6
    },
    {
     "cell_type": "markdown",
     "metadata": {},
     "source": [
      "Note that we have a special boundary condition for the $k_x=0$ mode (singled out by `condition=\"(dx==0)\"`).  This is because the continuity equation implies $\\partial_y v=0$ if $k_x=0$; thus, $v=0$ on the top and bottom are redundant boundary conditions.  We replace one of these with a gauge choice for the pressure.\n"
     ]
    },
    {
     "cell_type": "markdown",
     "metadata": {},
     "source": [
      "## Timestepping\n",
      "\n",
      "We have implemented about twenty implicit-explicit timesteppers in Dedalus.  This contains both multi-stage and multi-step methods.  For this problem, we will use a four-stage, fourth order Runge-Kutta integrator.  Changing the timestepping algorithm is as easy as changing one line of code."
     ]
    },
    {
     "cell_type": "code",
     "collapsed": false,
     "input": [
      "ts = de.timesteppers.RK443"
     ],
     "language": "python",
     "metadata": {},
     "outputs": [],
     "prompt_number": 7
    },
    {
     "cell_type": "markdown",
     "metadata": {},
     "source": [
      "## Initial Value Problem\n",
      "\n",
      "We now have the three ingredients necessary to set up our IVP:"
     ]
    },
    {
     "cell_type": "code",
     "collapsed": false,
     "input": [
      "solver =  problem.build_solver(ts)"
     ],
     "language": "python",
     "metadata": {},
     "outputs": [
      {
       "output_type": "stream",
       "stream": "stderr",
       "text": [
        "INFO:pencil:Building pencil matrix 1/96 (~1%) Elapsed: 0s, Remaining: 5s, Rate: 2.1e+01/s\n"
       ]
      },
      {
       "output_type": "stream",
       "stream": "stdout",
       "text": [
        "2015-02-26 16:00:10,550 pencil 0/1 INFO :: Building pencil matrix 1/96 (~1%) Elapsed: 0s, Remaining: 5s, Rate: 2.1e+01/s\n"
       ]
      },
      {
       "output_type": "stream",
       "stream": "stderr",
       "text": [
        "INFO:pencil:Building pencil matrix 10/96 (~10%) Elapsed: 0s, Remaining: 4s, Rate: 2.3e+01/s\n"
       ]
      },
      {
       "output_type": "stream",
       "stream": "stdout",
       "text": [
        "2015-02-26 16:00:10,944 pencil 0/1 INFO :: Building pencil matrix 10/96 (~10%) Elapsed: 0s, Remaining: 4s, Rate: 2.3e+01/s\n"
       ]
      },
      {
       "output_type": "stream",
       "stream": "stderr",
       "text": [
        "INFO:pencil:Building pencil matrix 20/96 (~21%) Elapsed: 1s, Remaining: 3s, Rate: 2.3e+01/s\n"
       ]
      },
      {
       "output_type": "stream",
       "stream": "stdout",
       "text": [
        "2015-02-26 16:00:11,378 pencil 0/1 INFO :: Building pencil matrix 20/96 (~21%) Elapsed: 1s, Remaining: 3s, Rate: 2.3e+01/s\n"
       ]
      },
      {
       "output_type": "stream",
       "stream": "stderr",
       "text": [
        "INFO:pencil:Building pencil matrix 30/96 (~31%) Elapsed: 1s, Remaining: 3s, Rate: 2.3e+01/s\n"
       ]
      },
      {
       "output_type": "stream",
       "stream": "stdout",
       "text": [
        "2015-02-26 16:00:11,807 pencil 0/1 INFO :: Building pencil matrix 30/96 (~31%) Elapsed: 1s, Remaining: 3s, Rate: 2.3e+01/s\n"
       ]
      },
      {
       "output_type": "stream",
       "stream": "stderr",
       "text": [
        "INFO:pencil:Building pencil matrix 40/96 (~42%) Elapsed: 2s, Remaining: 2s, Rate: 2.3e+01/s\n"
       ]
      },
      {
       "output_type": "stream",
       "stream": "stdout",
       "text": [
        "2015-02-26 16:00:12,233 pencil 0/1 INFO :: Building pencil matrix 40/96 (~42%) Elapsed: 2s, Remaining: 2s, Rate: 2.3e+01/s\n"
       ]
      },
      {
       "output_type": "stream",
       "stream": "stderr",
       "text": [
        "INFO:pencil:Building pencil matrix 50/96 (~52%) Elapsed: 2s, Remaining: 2s, Rate: 2.3e+01/s\n"
       ]
      },
      {
       "output_type": "stream",
       "stream": "stdout",
       "text": [
        "2015-02-26 16:00:12,660 pencil 0/1 INFO :: Building pencil matrix 50/96 (~52%) Elapsed: 2s, Remaining: 2s, Rate: 2.3e+01/s\n"
       ]
      },
      {
       "output_type": "stream",
       "stream": "stderr",
       "text": [
        "INFO:pencil:Building pencil matrix 60/96 (~62%) Elapsed: 3s, Remaining: 2s, Rate: 2.3e+01/s\n"
       ]
      },
      {
       "output_type": "stream",
       "stream": "stdout",
       "text": [
        "2015-02-26 16:00:13,087 pencil 0/1 INFO :: Building pencil matrix 60/96 (~62%) Elapsed: 3s, Remaining: 2s, Rate: 2.3e+01/s\n"
       ]
      },
      {
       "output_type": "stream",
       "stream": "stderr",
       "text": [
        "INFO:pencil:Building pencil matrix 70/96 (~73%) Elapsed: 3s, Remaining: 1s, Rate: 2.3e+01/s\n"
       ]
      },
      {
       "output_type": "stream",
       "stream": "stdout",
       "text": [
        "2015-02-26 16:00:13,514 pencil 0/1 INFO :: Building pencil matrix 70/96 (~73%) Elapsed: 3s, Remaining: 1s, Rate: 2.3e+01/s\n"
       ]
      },
      {
       "output_type": "stream",
       "stream": "stderr",
       "text": [
        "INFO:pencil:Building pencil matrix 80/96 (~83%) Elapsed: 3s, Remaining: 1s, Rate: 2.3e+01/s\n"
       ]
      },
      {
       "output_type": "stream",
       "stream": "stdout",
       "text": [
        "2015-02-26 16:00:13,943 pencil 0/1 INFO :: Building pencil matrix 80/96 (~83%) Elapsed: 3s, Remaining: 1s, Rate: 2.3e+01/s\n"
       ]
      },
      {
       "output_type": "stream",
       "stream": "stderr",
       "text": [
        "INFO:pencil:Building pencil matrix 90/96 (~94%) Elapsed: 4s, Remaining: 0s, Rate: 2.3e+01/s\n"
       ]
      },
      {
       "output_type": "stream",
       "stream": "stdout",
       "text": [
        "2015-02-26 16:00:14,371 pencil 0/1 INFO :: Building pencil matrix 90/96 (~94%) Elapsed: 4s, Remaining: 0s, Rate: 2.3e+01/s\n"
       ]
      },
      {
       "output_type": "stream",
       "stream": "stderr",
       "text": [
        "INFO:pencil:Building pencil matrix 96/96 (~100%) Elapsed: 4s, Remaining: 0s, Rate: 2.3e+01/s\n"
       ]
      },
      {
       "output_type": "stream",
       "stream": "stdout",
       "text": [
        "2015-02-26 16:00:14,628 pencil 0/1 INFO :: Building pencil matrix 96/96 (~100%) Elapsed: 4s, Remaining: 0s, Rate: 2.3e+01/s\n"
       ]
      }
     ],
     "prompt_number": 8
    },
    {
     "cell_type": "markdown",
     "metadata": {},
     "source": [
      "Now we set our initial conditions.  We set the horizontal velocity and scalar field to tanh profiles, and using a single-mode initial perturbation in $v$."
     ]
    },
    {
     "cell_type": "code",
     "collapsed": false,
     "input": [
      "x = domain.grid(0)\n",
      "y = domain.grid(1)\n",
      "u = solver.state['u']\n",
      "uy = solver.state['uy']\n",
      "v = solver.state['v']\n",
      "vy = solver.state['vy']\n",
      "s = solver.state['s']\n",
      "sy = solver.state['sy']\n",
      "\n",
      "a = 0.05\n",
      "sigma = 0.2\n",
      "flow = -0.5\n",
      "amp = -0.2\n",
      "u['g'] = flow*np.tanh(y/a)\n",
      "v['g'] = amp*np.sin(2.0*np.pi*x/Lx)*np.exp(-(y*y)/(sigma*sigma))\n",
      "s['g'] = 0.5*(1+np.tanh(y/a))\n",
      "u.differentiate('y',uy)\n",
      "v.differentiate('y',vy)\n",
      "s.differentiate('y',sy)"
     ],
     "language": "python",
     "metadata": {},
     "outputs": [
      {
       "metadata": {},
       "output_type": "pyout",
       "prompt_number": 9,
       "text": [
        "<Field 140118252900480>"
       ]
      }
     ],
     "prompt_number": 9
    },
    {
     "cell_type": "markdown",
     "metadata": {},
     "source": [
      "Now we set integration parameters and the CFL."
     ]
    },
    {
     "cell_type": "code",
     "collapsed": false,
     "input": [
      "solver.stop_sim_time = 2.01\n",
      "solver.stop_wall_time = np.inf\n",
      "solver.stop_iteration = np.inf\n",
      "\n",
      "initial_dt = 0.2*Lx/nx\n",
      "cfl = flow_tools.CFL(solver,initial_dt,safety=0.8)\n",
      "cfl.add_velocities(('u','v'))"
     ],
     "language": "python",
     "metadata": {},
     "outputs": [],
     "prompt_number": 10
    },
    {
     "cell_type": "markdown",
     "metadata": {},
     "source": [
      "## Analysis\n",
      "\n",
      "We have a sophisticated analysis framework in which the user specifies analysis tasks as strings.  Users can output full data cubes, slices, volume averages, and more.  Here we will only output a few 2D slices, and a 1D profile of the horizontally averaged concentration field.  Data is output in the hdf5 file format."
     ]
    },
    {
     "cell_type": "code",
     "collapsed": false,
     "input": [
      "analysis = solver.evaluator.add_file_handler('analysis_tasks', sim_dt=0.1, max_writes=50)\n",
      "analysis.add_task('s')\n",
      "analysis.add_task('u')\n",
      "solver.evaluator.vars['Lx'] = Lx\n",
      "analysis.add_task(\"integ(s,'x')/Lx\", name='s profile')"
     ],
     "language": "python",
     "metadata": {},
     "outputs": [],
     "prompt_number": 11
    },
    {
     "cell_type": "markdown",
     "metadata": {},
     "source": [
      "## Main Loop\n",
      "\n",
      "We now have everything set up for our simulation.  In Dedalus, the user writes their own main loop."
     ]
    },
    {
     "cell_type": "code",
     "collapsed": false,
     "input": [
      "# Make plot of scalar field\n",
      "x = domain.grid(0,scales=domain.dealias)\n",
      "y = domain.grid(1,scales=domain.dealias)\n",
      "xm, ym = np.meshgrid(x,y)\n",
      "fig, axis = plt.subplots(figsize=(10,5))\n",
      "p = axis.pcolormesh(xm, ym, s['g'].T, cmap='RdBu_r');\n",
      "axis.set_xlim([0,2.])\n",
      "axis.set_ylim([-0.5,0.5])\n",
      "\n",
      "logger.info('Starting loop')\n",
      "start_time = time.time()\n",
      "while solver.ok:\n",
      "    dt = cfl.compute_dt()\n",
      "    solver.step(dt)\n",
      "    if solver.iteration % 10 == 0:\n",
      "        # Update plot of scalar field\n",
      "        p.set_array(np.ravel(s['g'][:-1,:-1].T))\n",
      "        display.clear_output()\n",
      "        display.display(plt.gcf())\n",
      "        logger.info('Iteration: %i, Time: %e, dt: %e' %(solver.iteration, solver.sim_time, dt))\n",
      "\n",
      "end_time = time.time()\n",
      "\n",
      "p.set_array(np.ravel(s['g'][:-1,:-1].T))\n",
      "display.clear_output()\n",
      "# Print statistics\n",
      "logger.info('Run time: %f' %(end_time-start_time))\n",
      "logger.info('Iterations: %i' %solver.iteration)"
     ],
     "language": "python",
     "metadata": {},
     "outputs": [
      {
       "output_type": "stream",
       "stream": "stderr",
       "text": [
        "INFO:__main__:Run time: 109.111933\n"
       ]
      },
      {
       "output_type": "stream",
       "stream": "stdout",
       "text": [
        "2015-02-26 16:02:04,180 __main__ 0/1 INFO :: Run time: 109.111933\n"
       ]
      },
      {
       "output_type": "stream",
       "stream": "stderr",
       "text": [
        "INFO:__main__:Iterations: 268\n"
       ]
      },
      {
       "output_type": "stream",
       "stream": "stdout",
       "text": [
        "2015-02-26 16:02:04,180 __main__ 0/1 INFO :: Iterations: 268\n"
       ]
      },
      {
       "metadata": {},
       "output_type": "display_data",
       "png": "[encoded data removed]",
       "text": [
        "<matplotlib.figure.Figure at 0x7f6fd2aa46d8>"
       ]
      }
     ],
     "prompt_number": 12
    },
    {
     "cell_type": "markdown",
     "metadata": {},
     "source": [
      "## Analysis\n",
      "\n",
      "As an example of doing some analysis, we will load in the horizontally averaged profiles of the scalar field $s$ and plot them."
     ]
    },
    {
     "cell_type": "code",
     "collapsed": false,
     "input": [
      "# Read in the data\n",
      "f = h5py.File('analysis_tasks/analysis_tasks_s1/analysis_tasks_s1_p0.h5',flag='r')\n",
      "y = f['/scales/y/1.0'][:]\n",
      "t = f['scales']['sim_time'][:]\n",
      "s_ave = f['tasks']['s profile'][:]\n",
      "f.close()\n",
      "\n",
      "s_ave = s_ave[:,0,:] # remove length-one x dimension"
     ],
     "language": "python",
     "metadata": {},
     "outputs": [],
     "prompt_number": 13
    },
    {
     "cell_type": "code",
     "collapsed": false,
     "input": [
      "for i in range(0,21,5):\n",
      "  plt.plot(s_ave[i,:],y,label='t=%4.2f' %t[i])\n",
      "\n",
      "plt.ylim([-0.5,0.5])\n",
      "plt.xlim([0,1])\n",
      "plt.xlabel(r'$\\frac{\\int \\ s dx}{L_x}$',fontsize=24)\n",
      "plt.ylabel(r'$y$',fontsize=24)\n",
      "plt.legend(loc='lower right').draw_frame(False)"
     ],
     "language": "python",
     "metadata": {},
     "outputs": [
      {
       "metadata": {},
       "output_type": "display_data",
       "png": "[encoded data removed]",
       "text": [
        "<matplotlib.figure.Figure at 0x7f6fd2a88e48>"
       ]
      }
     ],
     "prompt_number": 14
    },
    {
     "cell_type": "code",
     "collapsed": false,
     "input": [],
     "language": "python",
     "metadata": {},
     "outputs": [],
     "prompt_number": 14
    }
   ],
   "metadata": {}
  }
 ]
}