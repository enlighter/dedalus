{
 "metadata": {
  "name": "",
  "signature": "sha256:06040c9a814261c0920aa95de614dfedf3cdb8b871939b9c8282793bd5492805"
 },
 "nbformat": 3,
 "nbformat_minor": 0,
 "worksheets": [
  {
   "cells": [
    {
     "cell_type": "markdown",
     "metadata": {},
     "source": [
      "# Axisymmetric Taylor-Couette flow in Dedalus\n",
      "\n",
      "\n",
      "![Taylor Couette Flow](http://upload.wikimedia.org/wikipedia/commons/3/3d/CouetteTaylorSystem.svg \"Taylor Couette Flow\")\n",
      "(image: wikipedia)\n",
      "\n",
      "Taylor-Couette flow is characterized by three dimensionless numbers:\n",
      "\n",
      "$\\eta = R1/R2$, the ratio of the inner cylidner radius $R_1$ to the outer cylinder radius $R_2$\n",
      "\n",
      "$\\mu = \\Omega_2/\\Omega_1$, the ratio of the OUTER cylinder rotation rate $\\Omega_2$ to the inner rate $\\Omega_1$\n",
      "\n",
      "$\\mathrm{Re} = \\Omega_1 R_1 \\delta/\\nu$, the Reynolds numbers, where $\\delta = R_2 - R_1$, the gap width between the cylinders\n",
      "\n",
      "\n",
      "We non dimensionalize the flow in terms of \n",
      "\n",
      "$[\\mathrm{L}] = \\delta = R_2 - R_1$ \n",
      "\n",
      "$[\\mathrm{V}] = R_1 \\Omega_1$ \n",
      "\n",
      "$[\\mathrm{M}] = \\rho \\delta^3$\n",
      "\n",
      "And choose $\\delta = 1$, $R_1 \\Omega_1 = 1$, and $\\rho = 1$."
     ]
    },
    {
     "cell_type": "code",
     "collapsed": false,
     "input": [
      "%pylab inline"
     ],
     "language": "python",
     "metadata": {},
     "outputs": [
      {
       "output_type": "stream",
       "stream": "stdout",
       "text": [
        "Populating the interactive namespace from numpy and matplotlib\n"
       ]
      }
     ],
     "prompt_number": 1
    },
    {
     "cell_type": "code",
     "collapsed": false,
     "input": [
      "import numpy as np\n",
      "import time\n",
      "import h5py\n",
      "\n",
      "import dedalus.public as de \n",
      "from dedalus.core.field import Field\n",
      "from dedalus.extras import flow_tools"
     ],
     "language": "python",
     "metadata": {},
     "outputs": [],
     "prompt_number": 2
    },
    {
     "cell_type": "markdown",
     "metadata": {},
     "source": [
      "Here, we set logging to `INFO` level. Currently, by default, the parsing in Dedalus sets its logging output to `DEBUG`, which produces more info than we need here."
     ]
    },
    {
     "cell_type": "code",
     "collapsed": false,
     "input": [
      "import logging\n",
      "root = logging.root\n",
      "for h in root.handlers:\n",
      "    h.setLevel(\"INFO\")\n",
      "    \n",
      "logger = logging.getLogger(__name__)"
     ],
     "language": "python",
     "metadata": {},
     "outputs": [],
     "prompt_number": 3
    },
    {
     "cell_type": "markdown",
     "metadata": {},
     "source": [
      "## Input parameters\n",
      "\n",
      "These parameters are taken from Barenghi (1991) J. Comp. Phys. After running, we'll compare it compute the growth rate and compare it to the value $\\gamma_{analytic} = 0.430108693$"
     ]
    },
    {
     "cell_type": "code",
     "collapsed": false,
     "input": [
      "# input parameters from Barenghi (1991)\n",
      "eta = 1./1.444 # R1/R2\n",
      "alpha = 3.13   # vertical wavenumber\n",
      "Re = 80.       # in units of R1*Omega1*delta/nu\n",
      "mu = 0.        # Omega2/Omega1\n",
      "\n",
      "# computed quantitites\n",
      "omega_in = 1.\n",
      "omega_out = mu * omega_in\n",
      "r_in = eta/(1. - eta)\n",
      "r_out = 1./(1. - eta)\n",
      "height = 2.*np.pi/alpha \n",
      "v_l = 1. # by default, we set v_l to 1.\n",
      "v_r = omega_out*r_out"
     ],
     "language": "python",
     "metadata": {},
     "outputs": [],
     "prompt_number": 4
    },
    {
     "cell_type": "markdown",
     "metadata": {},
     "source": [
      "## Problem Domain\n",
      "Every PDE takes place somewhere, so we define a *domain*, which in this case is the $z$ and $r$ directions. Because the $r$ direction has walls, we use a `Chebyshev` basis, but the $z$ direction is periodic, so we use a `Fourier` basis. The `Domain` object combines these."
     ]
    },
    {
     "cell_type": "code",
     "collapsed": false,
     "input": [
      "# bases\n",
      "r_basis = de.Chebyshev('r', 32, interval=(r_in, r_out), dealias=3/2)\n",
      "z_basis = de.Fourier('z', 32, interval=(0., height), dealias=3/2)\n",
      "domain = de.Domain([z_basis, r_basis], grid_dtype=np.float64)"
     ],
     "language": "python",
     "metadata": {},
     "outputs": [],
     "prompt_number": 5
    },
    {
     "cell_type": "markdown",
     "metadata": {},
     "source": [
      "## Equations\n",
      "\n",
      "We use the `IVP` object, which can parse a set of equations in plain text and combine them into an initial value problem.\n",
      "\n",
      "Here, we code up the equations for the \"primative\" variables, $\\mathbf{v} = u \\mathbf{\\hat{r}} + v \\mathbf{\\hat{\\theta}} + w \\mathbf{\\hat{z}}$ and $p$, along with their first derivatives. \n",
      "\n",
      "The equations are the incompressible, axisymmetric Navier-Stokes equations in cylindrical coordinates\n",
      "\n",
      "The axes will be called $z$ and $r$, and we will expand the non-constant $r^2$ terms, to a cutoff precision of $10^{-8}$. These non-constant coefficients (called \"NCC\" in Dedalus) are geometric here, but they could be background states in convection, or position dependent diffusion coefficients, or whatever.\n",
      "\n",
      "We also add the parameters to the object, so we can use their names in the equations below."
     ]
    },
    {
     "cell_type": "code",
     "collapsed": false,
     "input": [
      "TC = de.IVP(domain, \n",
      "            variables=['p', 'u', 'v', 'w', 'ur', 'vr', 'wr'],ncc_cutoff=1e-8)\n",
      "TC.parameters['nu'] = 1./Re\n",
      "TC.parameters['v_l'] = v_l\n",
      "TC.parameters['v_r'] = v_r\n",
      "mu = TC.parameters['v_r']/TC.parameters['v_l'] * eta"
     ],
     "language": "python",
     "metadata": {},
     "outputs": [],
     "prompt_number": 6
    },
    {
     "cell_type": "markdown",
     "metadata": {},
     "source": [
      "The equations are multiplied through by $r^2$, so that there are no $1/r$ terms, which require more coefficients in the expansion"
     ]
    },
    {
     "cell_type": "code",
     "collapsed": false,
     "input": [
      "TC.add_equation(\"r*ur + u + r*dz(w) = 0\")\n",
      "TC.add_equation(\"r*r*dt(u) - r*r*nu*dr(ur) - r*nu*ur - r*r*nu*dz(dz(u)) + nu*u + r*r*dr(p) = -r*r*u*ur - r*r*w*dz(u) + r*v*v\")\n",
      "TC.add_equation(\"r*r*dt(v) - r*r*nu*dr(vr) - r*nu*vr - r*r*nu*dz(dz(v)) + nu*v  = -r*r*u*vr - r*r*w*dz(v) - r*u*v\")\n",
      "TC.add_equation(\"r*dt(w) - r*nu*dr(wr) - nu*wr - r*nu*dz(dz(w)) + r*dz(p) = -r*u*wr - r*w*dz(w)\")\n",
      "TC.add_equation(\"ur - dr(u) = 0\")\n",
      "TC.add_equation(\"vr - dr(v) = 0\")\n",
      "TC.add_equation(\"wr - dr(w) = 0\")"
     ],
     "language": "python",
     "metadata": {},
     "outputs": [],
     "prompt_number": 7
    },
    {
     "cell_type": "markdown",
     "metadata": {},
     "source": [
      "## Initial and Boundary Conditions\n",
      "\n",
      "First we create some aliases to the $r$ and $z$ grids, so we can quickly compute the analytic Couette flow solution for unperturbed, unstable axisymmetric flow."
     ]
    },
    {
     "cell_type": "code",
     "collapsed": false,
     "input": [
      "r = domain.grid(1, scales=domain.dealias)\n",
      "z = domain.grid(0, scales=domain.dealias)\n",
      " \n",
      "p_analytic = (eta/(1-eta**2))**2 * (-1./(2*r**2*(1-eta)**2) -2*np.log(r) +0.5*r**2 * (1.-eta)**2)\n",
      "v_analytic = eta/(1-eta**2) * ((1. - mu)/(r*(1-eta)) - r * (1.-eta) * (1 - mu/eta**2)) "
     ],
     "language": "python",
     "metadata": {},
     "outputs": [],
     "prompt_number": 8
    },
    {
     "cell_type": "markdown",
     "metadata": {},
     "source": [
      "And now we add boundary conditions, simply by typing them in plain text, just like the equations."
     ]
    },
    {
     "cell_type": "code",
     "collapsed": false,
     "input": [
      "# boundary conditions\n",
      "TC.add_bc(\"left(u) = 0\")\n",
      "TC.add_bc(\"left(v) = v_l\")\n",
      "TC.add_bc(\"left(w) = 0\")\n",
      "TC.add_bc(\"right(u) = 0\", condition=\"nz != 0\")\n",
      "TC.add_bc(\"right(v) = v_r\")\n",
      "TC.add_bc(\"right(w) = 0\")\n",
      "TC.add_bc(\"integ(p,'r') = 0\", condition=\"nz == 0\")"
     ],
     "language": "python",
     "metadata": {},
     "outputs": [],
     "prompt_number": 9
    },
    {
     "cell_type": "markdown",
     "metadata": {},
     "source": [
      "We can now set the parameters of the problem, $\\nu$, $v_l$, and $v_r$, and have the code log $\\mu$ to the output (which can be `stdout`, a file, or both)."
     ]
    },
    {
     "cell_type": "markdown",
     "metadata": {},
     "source": [
      "## Timestepping\n",
      "\n",
      "Dedalus comes with a lot of timesteppers, and makes it very easy to add your favorite one. Here we pick `RK443`, an IMEX Runga-Kutta scheme. We set our maximum timestep `max_dt`, and choose the various stopping parameters.\n",
      "\n",
      "Finally, we've got our full initial value problem (represented by the `IVP`) object: a timestepper, a domain, and a `ParsedProblem` (or equation set)"
     ]
    },
    {
     "cell_type": "code",
     "collapsed": false,
     "input": [
      "dt = max_dt = 1.\n",
      "omega1 = TC.parameters['v_l']/r_in\n",
      "period = 2*np.pi/omega1\n",
      "\n",
      "ts = de.timesteppers.RK443\n",
      "IVP = TC.build_solver(ts)\n",
      "IVP.stop_sim_time = 15.*period\n",
      "IVP.stop_wall_time = np.inf\n",
      "IVP.stop_iteration = 10000000"
     ],
     "language": "python",
     "metadata": {},
     "outputs": [
      {
       "output_type": "stream",
       "stream": "stderr",
       "text": [
        "INFO:pencil:Building pencil matrix 1/16 (~6%) Elapsed: 0s, Remaining: 2s, Rate: 8.8e+00/s\n"
       ]
      },
      {
       "output_type": "stream",
       "stream": "stdout",
       "text": [
        "2015-02-26 15:54:19,186 pencil 0/1 INFO :: Building pencil matrix 1/16 (~6%) Elapsed: 0s, Remaining: 2s, Rate: 8.8e+00/s\n"
       ]
      },
      {
       "output_type": "stream",
       "stream": "stderr",
       "text": [
        "INFO:pencil:Building pencil matrix 2/16 (~12%) Elapsed: 0s, Remaining: 1s, Rate: 1.2e+01/s\n"
       ]
      },
      {
       "output_type": "stream",
       "stream": "stdout",
       "text": [
        "2015-02-26 15:54:19,233 pencil 0/1 INFO :: Building pencil matrix 2/16 (~12%) Elapsed: 0s, Remaining: 1s, Rate: 1.2e+01/s\n"
       ]
      },
      {
       "output_type": "stream",
       "stream": "stderr",
       "text": [
        "INFO:pencil:Building pencil matrix 4/16 (~25%) Elapsed: 0s, Remaining: 1s, Rate: 1.6e+01/s\n"
       ]
      },
      {
       "output_type": "stream",
       "stream": "stdout",
       "text": [
        "2015-02-26 15:54:19,323 pencil 0/1 INFO :: Building pencil matrix 4/16 (~25%) Elapsed: 0s, Remaining: 1s, Rate: 1.6e+01/s\n"
       ]
      },
      {
       "output_type": "stream",
       "stream": "stderr",
       "text": [
        "INFO:pencil:Building pencil matrix 6/16 (~38%) Elapsed: 0s, Remaining: 1s, Rate: 1.7e+01/s\n"
       ]
      },
      {
       "output_type": "stream",
       "stream": "stdout",
       "text": [
        "2015-02-26 15:54:19,417 pencil 0/1 INFO :: Building pencil matrix 6/16 (~38%) Elapsed: 0s, Remaining: 1s, Rate: 1.7e+01/s\n"
       ]
      },
      {
       "output_type": "stream",
       "stream": "stderr",
       "text": [
        "INFO:pencil:Building pencil matrix 8/16 (~50%) Elapsed: 0s, Remaining: 0s, Rate: 1.8e+01/s\n"
       ]
      },
      {
       "output_type": "stream",
       "stream": "stdout",
       "text": [
        "2015-02-26 15:54:19,508 pencil 0/1 INFO :: Building pencil matrix 8/16 (~50%) Elapsed: 0s, Remaining: 0s, Rate: 1.8e+01/s\n"
       ]
      },
      {
       "output_type": "stream",
       "stream": "stderr",
       "text": [
        "INFO:pencil:Building pencil matrix 10/16 (~62%) Elapsed: 1s, Remaining: 0s, Rate: 1.9e+01/s\n"
       ]
      },
      {
       "output_type": "stream",
       "stream": "stdout",
       "text": [
        "2015-02-26 15:54:19,598 pencil 0/1 INFO :: Building pencil matrix 10/16 (~62%) Elapsed: 1s, Remaining: 0s, Rate: 1.9e+01/s\n"
       ]
      },
      {
       "output_type": "stream",
       "stream": "stderr",
       "text": [
        "INFO:pencil:Building pencil matrix 12/16 (~75%) Elapsed: 1s, Remaining: 0s, Rate: 1.9e+01/s\n"
       ]
      },
      {
       "output_type": "stream",
       "stream": "stdout",
       "text": [
        "2015-02-26 15:54:19,689 pencil 0/1 INFO :: Building pencil matrix 12/16 (~75%) Elapsed: 1s, Remaining: 0s, Rate: 1.9e+01/s\n"
       ]
      },
      {
       "output_type": "stream",
       "stream": "stderr",
       "text": [
        "INFO:pencil:Building pencil matrix 14/16 (~88%) Elapsed: 1s, Remaining: 0s, Rate: 2.0e+01/s\n"
       ]
      },
      {
       "output_type": "stream",
       "stream": "stdout",
       "text": [
        "2015-02-26 15:54:19,781 pencil 0/1 INFO :: Building pencil matrix 14/16 (~88%) Elapsed: 1s, Remaining: 0s, Rate: 2.0e+01/s\n"
       ]
      },
      {
       "output_type": "stream",
       "stream": "stderr",
       "text": [
        "INFO:pencil:Building pencil matrix 16/16 (~100%) Elapsed: 1s, Remaining: 0s, Rate: 2.0e+01/s\n"
       ]
      },
      {
       "output_type": "stream",
       "stream": "stdout",
       "text": [
        "2015-02-26 15:54:19,871 pencil 0/1 INFO :: Building pencil matrix 16/16 (~100%) Elapsed: 1s, Remaining: 0s, Rate: 2.0e+01/s\n"
       ]
      }
     ],
     "prompt_number": 10
    },
    {
     "cell_type": "markdown",
     "metadata": {},
     "source": [
      "We initialize the state vector, given by `IVP.state`. To make life a little easier, we set some aliases first:"
     ]
    },
    {
     "cell_type": "code",
     "collapsed": false,
     "input": [
      "p = IVP.state['p']\n",
      "u = IVP.state['u']\n",
      "v = IVP.state['v']\n",
      "w = IVP.state['w']\n",
      "ur = IVP.state['ur']\n",
      "vr = IVP.state['vr']\n",
      "wr = IVP.state['wr']"
     ],
     "language": "python",
     "metadata": {},
     "outputs": [],
     "prompt_number": 11
    },
    {
     "cell_type": "markdown",
     "metadata": {},
     "source": [
      "Next, we create a new field, $\\phi$, defined on the `domain`, which we'll use below to compute incompressible, random velocity perturbations."
     ]
    },
    {
     "cell_type": "code",
     "collapsed": false,
     "input": [
      "phi = Field(domain, name='phi')"
     ],
     "language": "python",
     "metadata": {},
     "outputs": [],
     "prompt_number": 12
    },
    {
     "cell_type": "markdown",
     "metadata": {},
     "source": [
      "Here, we set all these to their dealiased domains. Dedalus allows you to set the \"scale\" of your data: this allows you to interpolate your data to a grid of any size at spectral accuracy. Of course, this isn't CSI: Fluid Dynamics, so you won't get any more detail than your highest spectral coefficient."
     ]
    },
    {
     "cell_type": "code",
     "collapsed": false,
     "input": [
      "for f in [phi,p,u,v,w,ur,vr,wr]:\n",
      "    f.set_scales(domain.dealias, keep_data=False)"
     ],
     "language": "python",
     "metadata": {},
     "outputs": [],
     "prompt_number": 13
    },
    {
     "cell_type": "markdown",
     "metadata": {},
     "source": [
      "Now we set the state vector with our previously computed analytic solution, compute the first derivatives (to make our system first order)"
     ]
    },
    {
     "cell_type": "code",
     "collapsed": false,
     "input": [
      "v['g'] = v_analytic\n",
      "#p['g'] = p_analytic\n",
      "\n",
      "v.differentiate(1,vr)"
     ],
     "language": "python",
     "metadata": {},
     "outputs": [
      {
       "metadata": {},
       "output_type": "pyout",
       "prompt_number": 14,
       "text": [
        "<Field 139828073259472>"
       ]
      }
     ],
     "prompt_number": 14
    },
    {
     "cell_type": "markdown",
     "metadata": {},
     "source": [
      "And finally, we set some small, incompressible perturbations to the velocity field so we can kick off our linear instability.\n",
      "\n",
      "First, we initialize $\\phi$ (which we created above) to Gaussian noise. We then take its curl to get the velocity perturbations, and then mask those to the center of the domain."
     ]
    },
    {
     "cell_type": "code",
     "collapsed": false,
     "input": [
      "# incompressible perturbation, arbitrary vorticity\n",
      "\n",
      "phi['g'] = 1e-3* np.random.randn(*v['g'].shape)\n",
      "phi.differentiate(1,u)\n",
      "u['g'] *= -1*np.sin(np.pi*(r - r_in))\n",
      "phi.differentiate(0,w)\n",
      "w['g'] *= np.sin(np.pi*(r - r_in))\n",
      "u.differentiate(1,ur)\n",
      "w.differentiate(1,wr)"
     ],
     "language": "python",
     "metadata": {},
     "outputs": [
      {
       "metadata": {},
       "output_type": "pyout",
       "prompt_number": 15,
       "text": [
        "<Field 139828704466200>"
       ]
      }
     ],
     "prompt_number": 15
    },
    {
     "cell_type": "markdown",
     "metadata": {},
     "source": [
      "## Time step size and the CFL condition\n",
      "\n",
      "Here, we use the nice CFL calculator provided by the `flow_tools` package in the `extras` module."
     ]
    },
    {
     "cell_type": "code",
     "collapsed": false,
     "input": [
      "CFL = flow_tools.CFL(IVP, initial_dt=1e-3, cadence=5, safety=0.3,\n",
      "                     max_change=1.5, min_change=0.5)\n",
      "CFL.add_velocities(('u', 'w'))"
     ],
     "language": "python",
     "metadata": {},
     "outputs": [],
     "prompt_number": 16
    },
    {
     "cell_type": "markdown",
     "metadata": {},
     "source": [
      "## Analysis\n",
      "\n",
      "Dedalus has a very powerful inline analysis system, and here we set up a few."
     ]
    },
    {
     "cell_type": "code",
     "collapsed": false,
     "input": [
      "# Integrated energy every 10 iterations\n",
      "analysis1 = IVP.evaluator.add_file_handler(\"scalar_data\", iter=10)\n",
      "analysis1.add_task(\"integ(0.5 * (u*u + v*v + w*w))\", name=\"total kinetic energy\")\n",
      "analysis1.add_task(\"integ(0.5 * (u*u + w*w))\", name=\"meridional kinetic energy\")\n",
      "analysis1.add_task(\"integ((u*u)**0.5)\", name='u_rms')\n",
      "analysis1.add_task(\"integ((w*w)**0.5)\", name='w_rms')\n",
      "\n",
      "# Snapshots every half an inner rotation period\n",
      "analysis2 = IVP.evaluator.add_file_handler('snapshots',sim_dt=0.5*period, max_size=2**30)\n",
      "analysis2.add_system(IVP.state, layout='g')\n",
      "\n",
      "# radial profiles every 100 timestpes\n",
      "analysis3 = IVP.evaluator.add_file_handler(\"radial_profiles\", iter=100)\n",
      "analysis3.add_task(\"integ(r*v, 'z')\", name='Angular Momentum')"
     ],
     "language": "python",
     "metadata": {},
     "outputs": [],
     "prompt_number": 17
    },
    {
     "cell_type": "markdown",
     "metadata": {},
     "source": [
      "## The Main Loop\n",
      "And here we actually run the simulation!"
     ]
    },
    {
     "cell_type": "code",
     "collapsed": false,
     "input": [
      "dt = CFL.compute_dt()\n",
      "# Main loop\n",
      "start_time = time.time()\n",
      "\n",
      "while IVP.ok:\n",
      "    IVP.step(dt)\n",
      "    logger.info('Iteration: %i, Time: %e, dt: %e' %(IVP.iteration, IVP.sim_time, dt))\n",
      "    dt = CFL.compute_dt()\n",
      "\n",
      "\n",
      "end_time = time.time()\n",
      "\n",
      "# Print statistics\n",
      "logger.info('Total time: %f' %(end_time-start_time))\n",
      "logger.info('Iterations: %i' %IVP.iteration)\n",
      "logger.info('Average timestep: %f' %(IVP.sim_time/IVP.iteration))"
     ],
     "language": "python",
     "metadata": {},
     "outputs": [
      {
       "output_type": "stream",
       "stream": "stderr",
       "text": [
        "INFO:__main__:Iteration: 1, Time: 1.000000e-03, dt: 1.000000e-03\n"
       ]
      },
      {
       "output_type": "stream",
       "stream": "stdout",
       "text": [
        "2015-02-26 15:54:20,132 __main__ 0/1 INFO :: Iteration: 1, Time: 1.000000e-03, dt: 1.000000e-03\n"
       ]
      },
      {
       "output_type": "stream",
       "stream": "stderr",
       "text": [
        "INFO:__main__:Iteration: 2, Time: 2.500000e-03, dt: 1.500000e-03\n"
       ]
      },
      {
       "output_type": "stream",
       "stream": "stdout",
       "text": [
        "2015-02-26 15:54:20,240 __main__ 0/1 INFO :: Iteration: 2, Time: 2.500000e-03, dt: 1.500000e-03\n"
       ]
      },
      {
       "output_type": "stream",
       "stream": "stderr",
       "text": [
        "INFO:__main__:Iteration: 3, Time: 4.000000e-03, dt: 1.500000e-03\n"
       ]
      },
      {
       "output_type": "stream",
       "stream": "stdout",
       "text": [
        "2015-02-26 15:54:20,348 __main__ 0/1 INFO :: Iteration: 3, Time: 4.000000e-03, dt: 1.500000e-03\n"
       ]
      },
      {
       "output_type": "stream",
       "stream": "stderr",
       "text": [
        "INFO:__main__:Iteration: 4, Time: 5.500000e-03, dt: 1.500000e-03\n"
       ]
      },
      {
       "output_type": "stream",
       "stream": "stdout",
       "text": [
        "2015-02-26 15:54:20,456 __main__ 0/1 INFO :: Iteration: 4, Time: 5.500000e-03, dt: 1.500000e-03\n"
       ]
      },
      {
       "output_type": "stream",
       "stream": "stderr",
       "text": [
        "INFO:__main__:Iteration: 5, Time: 7.000000e-03, dt: 1.500000e-03\n"
       ]
      },
      {
       "output_type": "stream",
       "stream": "stdout",
       "text": [
        "2015-02-26 15:54:20,561 __main__ 0/1 INFO :: Iteration: 5, Time: 7.000000e-03, dt: 1.500000e-03\n"
       ]
      },
      {
       "output_type": "stream",
       "stream": "stderr",
       "text": [
        "INFO:__main__:Iteration: 6, Time: 8.500000e-03, dt: 1.500000e-03\n"
       ]
      },
      {
       "output_type": "stream",
       "stream": "stdout",
       "text": [
        "2015-02-26 15:54:20,668 __main__ 0/1 INFO :: Iteration: 6, Time: 8.500000e-03, dt: 1.500000e-03\n"
       ]
      },
      {
       "output_type": "stream",
       "stream": "stderr",
       "text": [
        "INFO:__main__:Iteration: 7, Time: 1.075000e-02, dt: 2.250000e-03\n"
       ]
      },
      {
       "output_type": "stream",
       "stream": "stdout",
       "text": [
        "2015-02-26 15:54:20,772 __main__ 0/1 INFO :: Iteration: 7, Time: 1.075000e-02, dt: 2.250000e-03\n"
       ]
      },
      {
       "output_type": "stream",
       "stream": "stderr",
       "text": [
        "INFO:__main__:Iteration: 8, Time: 1.300000e-02, dt: 2.250000e-03\n"
       ]
      },
      {
       "output_type": "stream",
       "stream": "stdout",
       "text": [
        "2015-02-26 15:54:20,875 __main__ 0/1 INFO :: Iteration: 8, Time: 1.300000e-02, dt: 2.250000e-03\n"
       ]
      },
      {
       "output_type": "stream",
       "stream": "stderr",
       "text": [
        "INFO:__main__:Iteration: 9, Time: 1.525000e-02, dt: 2.250000e-03\n"
       ]
      },
      {
       "output_type": "stream",
       "stream": "stdout",
       "text": [
        "2015-02-26 15:54:20,978 __main__ 0/1 INFO :: Iteration: 9, Time: 1.525000e-02, dt: 2.250000e-03\n"
       ]
      },
      {
       "output_type": "stream",
       "stream": "stderr",
       "text": [
        "INFO:__main__:Iteration: 10, Time: 1.750000e-02, dt: 2.250000e-03\n"
       ]
      },
      {
       "output_type": "stream",
       "stream": "stdout",
       "text": [
        "2015-02-26 15:54:21,082 __main__ 0/1 INFO :: Iteration: 10, Time: 1.750000e-02, dt: 2.250000e-03\n"
       ]
      },
      {
       "output_type": "stream",
       "stream": "stderr",
       "text": [
        "INFO:__main__:Iteration: 11, Time: 1.975000e-02, dt: 2.250000e-03\n"
       ]
      },
      {
       "output_type": "stream",
       "stream": "stdout",
       "text": [
        "2015-02-26 15:54:21,204 __main__ 0/1 INFO :: Iteration: 11, Time: 1.975000e-02, dt: 2.250000e-03\n"
       ]
      },
      {
       "output_type": "stream",
       "stream": "stderr",
       "text": [
        "INFO:__main__:Iteration: 12, Time: 2.312500e-02, dt: 3.375000e-03\n"
       ]
      },
      {
       "output_type": "stream",
       "stream": "stdout",
       "text": [
        "2015-02-26 15:54:21,307 __main__ 0/1 INFO :: Iteration: 12, Time: 2.312500e-02, dt: 3.375000e-03\n"
       ]
      },
      {
       "output_type": "stream",
       "stream": "stderr",
       "text": [
        "INFO:__main__:Iteration: 13, Time: 2.650000e-02, dt: 3.375000e-03\n"
       ]
      },
      {
       "output_type": "stream",
       "stream": "stdout",
       "text": [
        "2015-02-26 15:54:21,414 __main__ 0/1 INFO :: Iteration: 13, Time: 2.650000e-02, dt: 3.375000e-03\n"
       ]
      },
      {
       "output_type": "stream",
       "stream": "stderr",
       "text": [
        "INFO:__main__:Iteration: 14, Time: 2.987500e-02, dt: 3.375000e-03\n"
       ]
      },
      {
       "output_type": "stream",
       "stream": "stdout",
       "text": [
        "2015-02-26 15:54:21,521 __main__ 0/1 INFO :: Iteration: 14, Time: 2.987500e-02, dt: 3.375000e-03\n"
       ]
      },
      {
       "output_type": "stream",
       "stream": "stderr",
       "text": [
        "INFO:__main__:Iteration: 15, Time: 3.325000e-02, dt: 3.375000e-03\n"
       ]
      },
      {
       "output_type": "stream",
       "stream": "stdout",
       "text": [
        "2015-02-26 15:54:21,628 __main__ 0/1 INFO :: Iteration: 15, Time: 3.325000e-02, dt: 3.375000e-03\n"
       ]
      },
      {
       "output_type": "stream",
       "stream": "stderr",
       "text": [
        "INFO:__main__:Iteration: 16, Time: 3.662500e-02, dt: 3.375000e-03\n"
       ]
      },
      {
       "output_type": "stream",
       "stream": "stdout",
       "text": [
        "2015-02-26 15:54:21,738 __main__ 0/1 INFO :: Iteration: 16, Time: 3.662500e-02, dt: 3.375000e-03\n"
       ]
      },
      {
       "output_type": "stream",
       "stream": "stderr",
       "text": [
        "INFO:__main__:Iteration: 17, Time: 4.168750e-02, dt: 5.062500e-03\n"
       ]
      },
      {
       "output_type": "stream",
       "stream": "stdout",
       "text": [
        "2015-02-26 15:54:21,844 __main__ 0/1 INFO :: Iteration: 17, Time: 4.168750e-02, dt: 5.062500e-03\n"
       ]
      },
      {
       "output_type": "stream",
       "stream": "stderr",
       "text": [
        "INFO:__main__:Iteration: 18, Time: 4.675000e-02, dt: 5.062500e-03\n"
       ]
      },
      {
       "output_type": "stream",
       "stream": "stdout",
       "text": [
        "2015-02-26 15:54:21,957 __main__ 0/1 INFO :: Iteration: 18, Time: 4.675000e-02, dt: 5.062500e-03\n"
       ]
      },
      {
       "output_type": "stream",
       "stream": "stderr",
       "text": [
        "INFO:__main__:Iteration: 19, Time: 5.181250e-02, dt: 5.062500e-03\n"
       ]
      },
      {
       "output_type": "stream",
       "stream": "stdout",
       "text": [
        "2015-02-26 15:54:22,064 __main__ 0/1 INFO :: Iteration: 19, Time: 5.181250e-02, dt: 5.062500e-03\n"
       ]
      },
      {
       "output_type": "stream",
       "stream": "stderr",
       "text": [
        "INFO:__main__:Iteration: 20, Time: 5.687500e-02, dt: 5.062500e-03\n"
       ]
      },
      {
       "output_type": "stream",
       "stream": "stdout",
       "text": [
        "2015-02-26 15:54:22,172 __main__ 0/1 INFO :: Iteration: 20, Time: 5.687500e-02, dt: 5.062500e-03\n"
       ]
      },
      {
       "output_type": "stream",
       "stream": "stderr",
       "text": [
        "INFO:__main__:Iteration: 21, Time: 6.193750e-02, dt: 5.062500e-03\n"
       ]
      },
      {
       "output_type": "stream",
       "stream": "stdout",
       "text": [
        "2015-02-26 15:54:22,295 __main__ 0/1 INFO :: Iteration: 21, Time: 6.193750e-02, dt: 5.062500e-03\n"
       ]
      },
      {
       "output_type": "stream",
       "stream": "stderr",
       "text": [
        "INFO:__main__:Iteration: 22, Time: 6.953125e-02, dt: 7.593750e-03\n"
       ]
      },
      {
       "output_type": "stream",
       "stream": "stdout",
       "text": [
        "2015-02-26 15:54:22,401 __main__ 0/1 INFO :: Iteration: 22, Time: 6.953125e-02, dt: 7.593750e-03\n"
       ]
      },
      {
       "output_type": "stream",
       "stream": "stderr",
       "text": [
        "INFO:__main__:Iteration: 23, Time: 7.712500e-02, dt: 7.593750e-03\n"
       ]
      },
      {
       "output_type": "stream",
       "stream": "stdout",
       "text": [
        "2015-02-26 15:54:22,504 __main__ 0/1 INFO :: Iteration: 23, Time: 7.712500e-02, dt: 7.593750e-03\n"
       ]
      },
      {
       "output_type": "stream",
       "stream": "stderr",
       "text": [
        "INFO:__main__:Iteration: 24, Time: 8.471875e-02, dt: 7.593750e-03\n"
       ]
      },
      {
       "output_type": "stream",
       "stream": "stdout",
       "text": [
        "2015-02-26 15:54:22,608 __main__ 0/1 INFO :: Iteration: 24, Time: 8.471875e-02, dt: 7.593750e-03\n"
       ]
      },
      {
       "output_type": "stream",
       "stream": "stderr",
       "text": [
        "INFO:__main__:Iteration: 25, Time: 9.231250e-02, dt: 7.593750e-03\n"
       ]
      },
      {
       "output_type": "stream",
       "stream": "stdout",
       "text": [
        "2015-02-26 15:54:22,711 __main__ 0/1 INFO :: Iteration: 25, Time: 9.231250e-02, dt: 7.593750e-03\n"
       ]
      },
      {
       "output_type": "stream",
       "stream": "stderr",
       "text": [
        "INFO:__main__:Iteration: 26, Time: 9.990625e-02, dt: 7.593750e-03\n"
       ]
      },
      {
       "output_type": "stream",
       "stream": "stdout",
       "text": [
        "2015-02-26 15:54:22,818 __main__ 0/1 INFO :: Iteration: 26, Time: 9.990625e-02, dt: 7.593750e-03\n"
       ]
      },
      {
       "output_type": "stream",
       "stream": "stderr",
       "text": [
        "INFO:__main__:Iteration: 27, Time: 1.112969e-01, dt: 1.139063e-02\n"
       ]
      },
      {
       "output_type": "stream",
       "stream": "stdout",
       "text": [
        "2015-02-26 15:54:22,921 __main__ 0/1 INFO :: Iteration: 27, Time: 1.112969e-01, dt: 1.139063e-02\n"
       ]
      },
      {
       "output_type": "stream",
       "stream": "stderr",
       "text": [
        "INFO:__main__:Iteration: 28, Time: 1.226875e-01, dt: 1.139063e-02\n"
       ]
      },
      {
       "output_type": "stream",
       "stream": "stdout",
       "text": [
        "2015-02-26 15:54:23,025 __main__ 0/1 INFO :: Iteration: 28, Time: 1.226875e-01, dt: 1.139063e-02\n"
       ]
      },
      {
       "output_type": "stream",
       "stream": "stderr",
       "text": [
        "INFO:__main__:Iteration: 29, Time: 1.340781e-01, dt: 1.139063e-02\n"
       ]
      },
      {
       "output_type": "stream",
       "stream": "stdout",
       "text": [
        "2015-02-26 15:54:23,128 __main__ 0/1 INFO :: Iteration: 29, Time: 1.340781e-01, dt: 1.139063e-02\n"
       ]
      },
      {
       "output_type": "stream",
       "stream": "stderr",
       "text": [
        "INFO:__main__:Iteration: 30, Time: 1.454687e-01, dt: 1.139063e-02\n"
       ]
      },
      {
       "output_type": "stream",
       "stream": "stdout",
       "text": [
        "2015-02-26 15:54:23,232 __main__ 0/1 INFO :: Iteration: 30, Time: 1.454687e-01, dt: 1.139063e-02\n"
       ]
      },
      {
       "output_type": "stream",
       "stream": "stderr",
       "text": [
        "INFO:__main__:Iteration: 31, Time: 1.568594e-01, dt: 1.139063e-02\n"
       ]
      },
      {
       "output_type": "stream",
       "stream": "stdout",
       "text": [
        "2015-02-26 15:54:23,353 __main__ 0/1 INFO :: Iteration: 31, Time: 1.568594e-01, dt: 1.139063e-02\n"
       ]
      },
      {
       "output_type": "stream",
       "stream": "stderr",
       "text": [
        "INFO:__main__:Iteration: 32, Time: 1.739453e-01, dt: 1.708594e-02\n"
       ]
      },
      {
       "output_type": "stream",
       "stream": "stdout",
       "text": [
        "2015-02-26 15:54:23,456 __main__ 0/1 INFO :: Iteration: 32, Time: 1.739453e-01, dt: 1.708594e-02\n"
       ]
      },
      {
       "output_type": "stream",
       "stream": "stderr",
       "text": [
        "INFO:__main__:Iteration: 33, Time: 1.910312e-01, dt: 1.708594e-02\n"
       ]
      },
      {
       "output_type": "stream",
       "stream": "stdout",
       "text": [
        "2015-02-26 15:54:23,559 __main__ 0/1 INFO :: Iteration: 33, Time: 1.910312e-01, dt: 1.708594e-02\n"
       ]
      },
      {
       "output_type": "stream",
       "stream": "stderr",
       "text": [
        "INFO:__main__:Iteration: 34, Time: 2.081172e-01, dt: 1.708594e-02\n"
       ]
      },
      {
       "output_type": "stream",
       "stream": "stdout",
       "text": [
        "2015-02-26 15:54:23,664 __main__ 0/1 INFO :: Iteration: 34, Time: 2.081172e-01, dt: 1.708594e-02\n"
       ]
      },
      {
       "output_type": "stream",
       "stream": "stderr",
       "text": [
        "INFO:__main__:Iteration: 35, Time: 2.252031e-01, dt: 1.708594e-02\n"
       ]
      },
      {
       "output_type": "stream",
       "stream": "stdout",
       "text": [
        "2015-02-26 15:54:23,768 __main__ 0/1 INFO :: Iteration: 35, Time: 2.252031e-01, dt: 1.708594e-02\n"
       ]
      },
      {
       "output_type": "stream",
       "stream": "stderr",
       "text": [
        "INFO:__main__:Iteration: 36, Time: 2.422891e-01, dt: 1.708594e-02\n"
       ]
      },
      {
       "output_type": "stream",
       "stream": "stdout",
       "text": [
        "2015-02-26 15:54:23,875 __main__ 0/1 INFO :: Iteration: 36, Time: 2.422891e-01, dt: 1.708594e-02\n"
       ]
      },
      {
       "output_type": "stream",
       "stream": "stderr",
       "text": [
        "INFO:__main__:Iteration: 37, Time: 2.679180e-01, dt: 2.562891e-02\n"
       ]
      },
      {
       "output_type": "stream",
       "stream": "stdout",
       "text": [
        "2015-02-26 15:54:23,979 __main__ 0/1 INFO :: Iteration: 37, Time: 2.679180e-01, dt: 2.562891e-02\n"
       ]
      },
      {
       "output_type": "stream",
       "stream": "stderr",
       "text": [
        "INFO:__main__:Iteration: 38, Time: 2.935469e-01, dt: 2.562891e-02\n"
       ]
      },
      {
       "output_type": "stream",
       "stream": "stdout",
       "text": [
        "2015-02-26 15:54:24,083 __main__ 0/1 INFO :: Iteration: 38, Time: 2.935469e-01, dt: 2.562891e-02\n"
       ]
      },
      {
       "output_type": "stream",
       "stream": "stderr",
       "text": [
        "INFO:__main__:Iteration: 39, Time: 3.191758e-01, dt: 2.562891e-02\n"
       ]
      },
      {
       "output_type": "stream",
       "stream": "stdout",
       "text": [
        "2015-02-26 15:54:24,188 __main__ 0/1 INFO :: Iteration: 39, Time: 3.191758e-01, dt: 2.562891e-02\n"
       ]
      },
      {
       "output_type": "stream",
       "stream": "stderr",
       "text": [
        "INFO:__main__:Iteration: 40, Time: 3.448047e-01, dt: 2.562891e-02\n"
       ]
      },
      {
       "output_type": "stream",
       "stream": "stdout",
       "text": [
        "2015-02-26 15:54:24,292 __main__ 0/1 INFO :: Iteration: 40, Time: 3.448047e-01, dt: 2.562891e-02\n"
       ]
      },
      {
       "output_type": "stream",
       "stream": "stderr",
       "text": [
        "INFO:__main__:Iteration: 41, Time: 3.704336e-01, dt: 2.562891e-02\n"
       ]
      },
      {
       "output_type": "stream",
       "stream": "stdout",
       "text": [
        "2015-02-26 15:54:24,417 __main__ 0/1 INFO :: Iteration: 41, Time: 3.704336e-01, dt: 2.562891e-02\n"
       ]
      },
      {
       "output_type": "stream",
       "stream": "stderr",
       "text": [
        "INFO:__main__:Iteration: 42, Time: 4.088770e-01, dt: 3.844336e-02\n"
       ]
      },
      {
       "output_type": "stream",
       "stream": "stdout",
       "text": [
        "2015-02-26 15:54:24,523 __main__ 0/1 INFO :: Iteration: 42, Time: 4.088770e-01, dt: 3.844336e-02\n"
       ]
      },
      {
       "output_type": "stream",
       "stream": "stderr",
       "text": [
        "INFO:__main__:Iteration: 43, Time: 4.473203e-01, dt: 3.844336e-02\n"
       ]
      },
      {
       "output_type": "stream",
       "stream": "stdout",
       "text": [
        "2015-02-26 15:54:24,626 __main__ 0/1 INFO :: Iteration: 43, Time: 4.473203e-01, dt: 3.844336e-02\n"
       ]
      },
      {
       "output_type": "stream",
       "stream": "stderr",
       "text": [
        "INFO:__main__:Iteration: 44, Time: 4.857637e-01, dt: 3.844336e-02\n"
       ]
      },
      {
       "output_type": "stream",
       "stream": "stdout",
       "text": [
        "2015-02-26 15:54:24,731 __main__ 0/1 INFO :: Iteration: 44, Time: 4.857637e-01, dt: 3.844336e-02\n"
       ]
      },
      {
       "output_type": "stream",
       "stream": "stderr",
       "text": [
        "INFO:__main__:Iteration: 45, Time: 5.242070e-01, dt: 3.844336e-02\n"
       ]
      },
      {
       "output_type": "stream",
       "stream": "stdout",
       "text": [
        "2015-02-26 15:54:24,834 __main__ 0/1 INFO :: Iteration: 45, Time: 5.242070e-01, dt: 3.844336e-02\n"
       ]
      },
      {
       "output_type": "stream",
       "stream": "stderr",
       "text": [
        "INFO:__main__:Iteration: 46, Time: 5.626504e-01, dt: 3.844336e-02\n"
       ]
      },
      {
       "output_type": "stream",
       "stream": "stdout",
       "text": [
        "2015-02-26 15:54:24,939 __main__ 0/1 INFO :: Iteration: 46, Time: 5.626504e-01, dt: 3.844336e-02\n"
       ]
      },
      {
       "output_type": "stream",
       "stream": "stderr",
       "text": [
        "INFO:__main__:Iteration: 47, Time: 6.203154e-01, dt: 5.766504e-02\n"
       ]
      },
      {
       "output_type": "stream",
       "stream": "stdout",
       "text": [
        "2015-02-26 15:54:25,042 __main__ 0/1 INFO :: Iteration: 47, Time: 6.203154e-01, dt: 5.766504e-02\n"
       ]
      },
      {
       "output_type": "stream",
       "stream": "stderr",
       "text": [
        "INFO:__main__:Iteration: 48, Time: 6.779805e-01, dt: 5.766504e-02\n"
       ]
      },
      {
       "output_type": "stream",
       "stream": "stdout",
       "text": [
        "2015-02-26 15:54:25,145 __main__ 0/1 INFO :: Iteration: 48, Time: 6.779805e-01, dt: 5.766504e-02\n"
       ]
      },
      {
       "output_type": "stream",
       "stream": "stderr",
       "text": [
        "INFO:__main__:Iteration: 49, Time: 7.356455e-01, dt: 5.766504e-02\n"
       ]
      },
      {
       "output_type": "stream",
       "stream": "stdout",
       "text": [
        "2015-02-26 15:54:25,247 __main__ 0/1 INFO :: Iteration: 49, Time: 7.356455e-01, dt: 5.766504e-02\n"
       ]
      },
      {
       "output_type": "stream",
       "stream": "stderr",
       "text": [
        "INFO:__main__:Iteration: 50, Time: 7.933105e-01, dt: 5.766504e-02\n"
       ]
      },
      {
       "output_type": "stream",
       "stream": "stdout",
       "text": [
        "2015-02-26 15:54:25,350 __main__ 0/1 INFO :: Iteration: 50, Time: 7.933105e-01, dt: 5.766504e-02\n"
       ]
      },
      {
       "output_type": "stream",
       "stream": "stderr",
       "text": [
        "INFO:__main__:Iteration: 51, Time: 8.509756e-01, dt: 5.766504e-02\n"
       ]
      },
      {
       "output_type": "stream",
       "stream": "stdout",
       "text": [
        "2015-02-26 15:54:25,472 __main__ 0/1 INFO :: Iteration: 51, Time: 8.509756e-01, dt: 5.766504e-02\n"
       ]
      },
      {
       "output_type": "stream",
       "stream": "stderr",
       "text": [
        "INFO:__main__:Iteration: 52, Time: 9.374731e-01, dt: 8.649756e-02\n"
       ]
      },
      {
       "output_type": "stream",
       "stream": "stdout",
       "text": [
        "2015-02-26 15:54:25,574 __main__ 0/1 INFO :: Iteration: 52, Time: 9.374731e-01, dt: 8.649756e-02\n"
       ]
      },
      {
       "output_type": "stream",
       "stream": "stderr",
       "text": [
        "INFO:__main__:Iteration: 53, Time: 1.023971e+00, dt: 8.649756e-02\n"
       ]
      },
      {
       "output_type": "stream",
       "stream": "stdout",
       "text": [
        "2015-02-26 15:54:25,677 __main__ 0/1 INFO :: Iteration: 53, Time: 1.023971e+00, dt: 8.649756e-02\n"
       ]
      },
      {
       "output_type": "stream",
       "stream": "stderr",
       "text": [
        "INFO:__main__:Iteration: 54, Time: 1.110468e+00, dt: 8.649756e-02\n"
       ]
      },
      {
       "output_type": "stream",
       "stream": "stdout",
       "text": [
        "2015-02-26 15:54:25,780 __main__ 0/1 INFO :: Iteration: 54, Time: 1.110468e+00, dt: 8.649756e-02\n"
       ]
      },
      {
       "output_type": "stream",
       "stream": "stderr",
       "text": [
        "INFO:__main__:Iteration: 55, Time: 1.196966e+00, dt: 8.649756e-02\n"
       ]
      },
      {
       "output_type": "stream",
       "stream": "stdout",
       "text": [
        "2015-02-26 15:54:25,882 __main__ 0/1 INFO :: Iteration: 55, Time: 1.196966e+00, dt: 8.649756e-02\n"
       ]
      },
      {
       "output_type": "stream",
       "stream": "stderr",
       "text": [
        "INFO:__main__:Iteration: 56, Time: 1.283463e+00, dt: 8.649756e-02\n"
       ]
      },
      {
       "output_type": "stream",
       "stream": "stdout",
       "text": [
        "2015-02-26 15:54:25,987 __main__ 0/1 INFO :: Iteration: 56, Time: 1.283463e+00, dt: 8.649756e-02\n"
       ]
      },
      {
       "output_type": "stream",
       "stream": "stderr",
       "text": [
        "INFO:__main__:Iteration: 57, Time: 1.413210e+00, dt: 1.297463e-01\n"
       ]
      },
      {
       "output_type": "stream",
       "stream": "stdout",
       "text": [
        "2015-02-26 15:54:26,089 __main__ 0/1 INFO :: Iteration: 57, Time: 1.413210e+00, dt: 1.297463e-01\n"
       ]
      },
      {
       "output_type": "stream",
       "stream": "stderr",
       "text": [
        "INFO:__main__:Iteration: 58, Time: 1.542956e+00, dt: 1.297463e-01\n"
       ]
      },
      {
       "output_type": "stream",
       "stream": "stdout",
       "text": [
        "2015-02-26 15:54:26,192 __main__ 0/1 INFO :: Iteration: 58, Time: 1.542956e+00, dt: 1.297463e-01\n"
       ]
      },
      {
       "output_type": "stream",
       "stream": "stderr",
       "text": [
        "INFO:__main__:Iteration: 59, Time: 1.672702e+00, dt: 1.297463e-01\n"
       ]
      },
      {
       "output_type": "stream",
       "stream": "stdout",
       "text": [
        "2015-02-26 15:54:26,295 __main__ 0/1 INFO :: Iteration: 59, Time: 1.672702e+00, dt: 1.297463e-01\n"
       ]
      },
      {
       "output_type": "stream",
       "stream": "stderr",
       "text": [
        "INFO:__main__:Iteration: 60, Time: 1.802449e+00, dt: 1.297463e-01\n"
       ]
      },
      {
       "output_type": "stream",
       "stream": "stdout",
       "text": [
        "2015-02-26 15:54:26,400 __main__ 0/1 INFO :: Iteration: 60, Time: 1.802449e+00, dt: 1.297463e-01\n"
       ]
      },
      {
       "output_type": "stream",
       "stream": "stderr",
       "text": [
        "INFO:__main__:Iteration: 61, Time: 1.932195e+00, dt: 1.297463e-01\n"
       ]
      },
      {
       "output_type": "stream",
       "stream": "stdout",
       "text": [
        "2015-02-26 15:54:26,522 __main__ 0/1 INFO :: Iteration: 61, Time: 1.932195e+00, dt: 1.297463e-01\n"
       ]
      },
      {
       "output_type": "stream",
       "stream": "stderr",
       "text": [
        "INFO:__main__:Iteration: 62, Time: 2.126815e+00, dt: 1.946195e-01\n"
       ]
      },
      {
       "output_type": "stream",
       "stream": "stdout",
       "text": [
        "2015-02-26 15:54:26,624 __main__ 0/1 INFO :: Iteration: 62, Time: 2.126815e+00, dt: 1.946195e-01\n"
       ]
      },
      {
       "output_type": "stream",
       "stream": "stderr",
       "text": [
        "INFO:__main__:Iteration: 63, Time: 2.321434e+00, dt: 1.946195e-01\n"
       ]
      },
      {
       "output_type": "stream",
       "stream": "stdout",
       "text": [
        "2015-02-26 15:54:26,726 __main__ 0/1 INFO :: Iteration: 63, Time: 2.321434e+00, dt: 1.946195e-01\n"
       ]
      },
      {
       "output_type": "stream",
       "stream": "stderr",
       "text": [
        "INFO:__main__:Iteration: 64, Time: 2.516054e+00, dt: 1.946195e-01\n"
       ]
      },
      {
       "output_type": "stream",
       "stream": "stdout",
       "text": [
        "2015-02-26 15:54:26,829 __main__ 0/1 INFO :: Iteration: 64, Time: 2.516054e+00, dt: 1.946195e-01\n"
       ]
      },
      {
       "output_type": "stream",
       "stream": "stderr",
       "text": [
        "INFO:__main__:Iteration: 65, Time: 2.710673e+00, dt: 1.946195e-01\n"
       ]
      },
      {
       "output_type": "stream",
       "stream": "stdout",
       "text": [
        "2015-02-26 15:54:26,931 __main__ 0/1 INFO :: Iteration: 65, Time: 2.710673e+00, dt: 1.946195e-01\n"
       ]
      },
      {
       "output_type": "stream",
       "stream": "stderr",
       "text": [
        "INFO:__main__:Iteration: 66, Time: 2.905293e+00, dt: 1.946195e-01\n"
       ]
      },
      {
       "output_type": "stream",
       "stream": "stdout",
       "text": [
        "2015-02-26 15:54:27,036 __main__ 0/1 INFO :: Iteration: 66, Time: 2.905293e+00, dt: 1.946195e-01\n"
       ]
      },
      {
       "output_type": "stream",
       "stream": "stderr",
       "text": [
        "INFO:__main__:Iteration: 67, Time: 3.197222e+00, dt: 2.919293e-01\n"
       ]
      },
      {
       "output_type": "stream",
       "stream": "stdout",
       "text": [
        "2015-02-26 15:54:27,137 __main__ 0/1 INFO :: Iteration: 67, Time: 3.197222e+00, dt: 2.919293e-01\n"
       ]
      },
      {
       "output_type": "stream",
       "stream": "stderr",
       "text": [
        "INFO:__main__:Iteration: 68, Time: 3.489151e+00, dt: 2.919293e-01\n"
       ]
      },
      {
       "output_type": "stream",
       "stream": "stdout",
       "text": [
        "2015-02-26 15:54:27,239 __main__ 0/1 INFO :: Iteration: 68, Time: 3.489151e+00, dt: 2.919293e-01\n"
       ]
      },
      {
       "output_type": "stream",
       "stream": "stderr",
       "text": [
        "INFO:__main__:Iteration: 69, Time: 3.781080e+00, dt: 2.919293e-01\n"
       ]
      },
      {
       "output_type": "stream",
       "stream": "stdout",
       "text": [
        "2015-02-26 15:54:27,341 __main__ 0/1 INFO :: Iteration: 69, Time: 3.781080e+00, dt: 2.919293e-01\n"
       ]
      },
      {
       "output_type": "stream",
       "stream": "stderr",
       "text": [
        "INFO:__main__:Iteration: 70, Time: 4.073010e+00, dt: 2.919293e-01\n"
       ]
      },
      {
       "output_type": "stream",
       "stream": "stdout",
       "text": [
        "2015-02-26 15:54:27,443 __main__ 0/1 INFO :: Iteration: 70, Time: 4.073010e+00, dt: 2.919293e-01\n"
       ]
      },
      {
       "output_type": "stream",
       "stream": "stderr",
       "text": [
        "INFO:__main__:Iteration: 71, Time: 4.364939e+00, dt: 2.919293e-01\n"
       ]
      },
      {
       "output_type": "stream",
       "stream": "stdout",
       "text": [
        "2015-02-26 15:54:27,565 __main__ 0/1 INFO :: Iteration: 71, Time: 4.364939e+00, dt: 2.919293e-01\n"
       ]
      },
      {
       "output_type": "stream",
       "stream": "stderr",
       "text": [
        "INFO:__main__:Iteration: 72, Time: 4.802833e+00, dt: 4.378939e-01\n"
       ]
      },
      {
       "output_type": "stream",
       "stream": "stdout",
       "text": [
        "2015-02-26 15:54:27,667 __main__ 0/1 INFO :: Iteration: 72, Time: 4.802833e+00, dt: 4.378939e-01\n"
       ]
      },
      {
       "output_type": "stream",
       "stream": "stderr",
       "text": [
        "INFO:__main__:Iteration: 73, Time: 5.240727e+00, dt: 4.378939e-01\n"
       ]
      },
      {
       "output_type": "stream",
       "stream": "stdout",
       "text": [
        "2015-02-26 15:54:27,768 __main__ 0/1 INFO :: Iteration: 73, Time: 5.240727e+00, dt: 4.378939e-01\n"
       ]
      },
      {
       "output_type": "stream",
       "stream": "stderr",
       "text": [
        "INFO:__main__:Iteration: 74, Time: 5.678621e+00, dt: 4.378939e-01\n"
       ]
      },
      {
       "output_type": "stream",
       "stream": "stdout",
       "text": [
        "2015-02-26 15:54:27,870 __main__ 0/1 INFO :: Iteration: 74, Time: 5.678621e+00, dt: 4.378939e-01\n"
       ]
      },
      {
       "output_type": "stream",
       "stream": "stderr",
       "text": [
        "INFO:__main__:Iteration: 75, Time: 6.116514e+00, dt: 4.378939e-01\n"
       ]
      },
      {
       "output_type": "stream",
       "stream": "stdout",
       "text": [
        "2015-02-26 15:54:27,972 __main__ 0/1 INFO :: Iteration: 75, Time: 6.116514e+00, dt: 4.378939e-01\n"
       ]
      },
      {
       "output_type": "stream",
       "stream": "stderr",
       "text": [
        "INFO:__main__:Iteration: 76, Time: 6.554408e+00, dt: 4.378939e-01\n"
       ]
      },
      {
       "output_type": "stream",
       "stream": "stdout",
       "text": [
        "2015-02-26 15:54:28,076 __main__ 0/1 INFO :: Iteration: 76, Time: 6.554408e+00, dt: 4.378939e-01\n"
       ]
      },
      {
       "output_type": "stream",
       "stream": "stderr",
       "text": [
        "INFO:__main__:Iteration: 77, Time: 7.211249e+00, dt: 6.568408e-01\n"
       ]
      },
      {
       "output_type": "stream",
       "stream": "stdout",
       "text": [
        "2015-02-26 15:54:28,178 __main__ 0/1 INFO :: Iteration: 77, Time: 7.211249e+00, dt: 6.568408e-01\n"
       ]
      },
      {
       "output_type": "stream",
       "stream": "stderr",
       "text": [
        "INFO:__main__:Iteration: 78, Time: 7.868090e+00, dt: 6.568408e-01\n"
       ]
      },
      {
       "output_type": "stream",
       "stream": "stdout",
       "text": [
        "2015-02-26 15:54:28,289 __main__ 0/1 INFO :: Iteration: 78, Time: 7.868090e+00, dt: 6.568408e-01\n"
       ]
      },
      {
       "output_type": "stream",
       "stream": "stderr",
       "text": [
        "INFO:__main__:Iteration: 79, Time: 8.524931e+00, dt: 6.568408e-01\n"
       ]
      },
      {
       "output_type": "stream",
       "stream": "stdout",
       "text": [
        "2015-02-26 15:54:28,391 __main__ 0/1 INFO :: Iteration: 79, Time: 8.524931e+00, dt: 6.568408e-01\n"
       ]
      },
      {
       "output_type": "stream",
       "stream": "stderr",
       "text": [
        "INFO:__main__:Iteration: 80, Time: 9.181772e+00, dt: 6.568408e-01\n"
       ]
      },
      {
       "output_type": "stream",
       "stream": "stdout",
       "text": [
        "2015-02-26 15:54:28,492 __main__ 0/1 INFO :: Iteration: 80, Time: 9.181772e+00, dt: 6.568408e-01\n"
       ]
      },
      {
       "output_type": "stream",
       "stream": "stderr",
       "text": [
        "INFO:__main__:Iteration: 81, Time: 9.838613e+00, dt: 6.568408e-01\n"
       ]
      },
      {
       "output_type": "stream",
       "stream": "stdout",
       "text": [
        "2015-02-26 15:54:28,613 __main__ 0/1 INFO :: Iteration: 81, Time: 9.838613e+00, dt: 6.568408e-01\n"
       ]
      },
      {
       "output_type": "stream",
       "stream": "stderr",
       "text": [
        "INFO:__main__:Iteration: 82, Time: 1.082387e+01, dt: 9.852613e-01\n"
       ]
      },
      {
       "output_type": "stream",
       "stream": "stdout",
       "text": [
        "2015-02-26 15:54:28,715 __main__ 0/1 INFO :: Iteration: 82, Time: 1.082387e+01, dt: 9.852613e-01\n"
       ]
      },
      {
       "output_type": "stream",
       "stream": "stderr",
       "text": [
        "INFO:__main__:Iteration: 83, Time: 1.180914e+01, dt: 9.852613e-01\n"
       ]
      },
      {
       "output_type": "stream",
       "stream": "stdout",
       "text": [
        "2015-02-26 15:54:28,816 __main__ 0/1 INFO :: Iteration: 83, Time: 1.180914e+01, dt: 9.852613e-01\n"
       ]
      },
      {
       "output_type": "stream",
       "stream": "stderr",
       "text": [
        "INFO:__main__:Iteration: 84, Time: 1.279440e+01, dt: 9.852613e-01\n"
       ]
      },
      {
       "output_type": "stream",
       "stream": "stdout",
       "text": [
        "2015-02-26 15:54:28,917 __main__ 0/1 INFO :: Iteration: 84, Time: 1.279440e+01, dt: 9.852613e-01\n"
       ]
      },
      {
       "output_type": "stream",
       "stream": "stderr",
       "text": [
        "INFO:__main__:Iteration: 85, Time: 1.377966e+01, dt: 9.852613e-01\n"
       ]
      },
      {
       "output_type": "stream",
       "stream": "stdout",
       "text": [
        "2015-02-26 15:54:29,026 __main__ 0/1 INFO :: Iteration: 85, Time: 1.377966e+01, dt: 9.852613e-01\n"
       ]
      },
      {
       "output_type": "stream",
       "stream": "stderr",
       "text": [
        "INFO:__main__:Iteration: 86, Time: 1.476492e+01, dt: 9.852613e-01\n"
       ]
      },
      {
       "output_type": "stream",
       "stream": "stdout",
       "text": [
        "2015-02-26 15:54:29,131 __main__ 0/1 INFO :: Iteration: 86, Time: 1.476492e+01, dt: 9.852613e-01\n"
       ]
      },
      {
       "output_type": "stream",
       "stream": "stderr",
       "text": [
        "INFO:__main__:Iteration: 87, Time: 1.624281e+01, dt: 1.477892e+00\n"
       ]
      },
      {
       "output_type": "stream",
       "stream": "stdout",
       "text": [
        "2015-02-26 15:54:29,242 __main__ 0/1 INFO :: Iteration: 87, Time: 1.624281e+01, dt: 1.477892e+00\n"
       ]
      },
      {
       "output_type": "stream",
       "stream": "stderr",
       "text": [
        "INFO:__main__:Iteration: 88, Time: 1.772070e+01, dt: 1.477892e+00\n"
       ]
      },
      {
       "output_type": "stream",
       "stream": "stdout",
       "text": [
        "2015-02-26 15:54:29,344 __main__ 0/1 INFO :: Iteration: 88, Time: 1.772070e+01, dt: 1.477892e+00\n"
       ]
      },
      {
       "output_type": "stream",
       "stream": "stderr",
       "text": [
        "INFO:__main__:Iteration: 89, Time: 1.919859e+01, dt: 1.477892e+00\n"
       ]
      },
      {
       "output_type": "stream",
       "stream": "stdout",
       "text": [
        "2015-02-26 15:54:29,449 __main__ 0/1 INFO :: Iteration: 89, Time: 1.919859e+01, dt: 1.477892e+00\n"
       ]
      },
      {
       "output_type": "stream",
       "stream": "stderr",
       "text": [
        "INFO:__main__:Iteration: 90, Time: 2.067649e+01, dt: 1.477892e+00\n"
       ]
      },
      {
       "output_type": "stream",
       "stream": "stdout",
       "text": [
        "2015-02-26 15:54:29,553 __main__ 0/1 INFO :: Iteration: 90, Time: 2.067649e+01, dt: 1.477892e+00\n"
       ]
      },
      {
       "output_type": "stream",
       "stream": "stderr",
       "text": [
        "INFO:__main__:Iteration: 91, Time: 2.215438e+01, dt: 1.477892e+00\n"
       ]
      },
      {
       "output_type": "stream",
       "stream": "stdout",
       "text": [
        "2015-02-26 15:54:29,674 __main__ 0/1 INFO :: Iteration: 91, Time: 2.215438e+01, dt: 1.477892e+00\n"
       ]
      },
      {
       "output_type": "stream",
       "stream": "stderr",
       "text": [
        "INFO:__main__:Iteration: 92, Time: 2.437122e+01, dt: 2.216838e+00\n"
       ]
      },
      {
       "output_type": "stream",
       "stream": "stdout",
       "text": [
        "2015-02-26 15:54:29,784 __main__ 0/1 INFO :: Iteration: 92, Time: 2.437122e+01, dt: 2.216838e+00\n"
       ]
      },
      {
       "output_type": "stream",
       "stream": "stderr",
       "text": [
        "INFO:__main__:Iteration: 93, Time: 2.658805e+01, dt: 2.216838e+00\n"
       ]
      },
      {
       "output_type": "stream",
       "stream": "stdout",
       "text": [
        "2015-02-26 15:54:29,886 __main__ 0/1 INFO :: Iteration: 93, Time: 2.658805e+01, dt: 2.216838e+00\n"
       ]
      },
      {
       "output_type": "stream",
       "stream": "stderr",
       "text": [
        "INFO:__main__:Iteration: 94, Time: 2.880489e+01, dt: 2.216838e+00\n"
       ]
      },
      {
       "output_type": "stream",
       "stream": "stdout",
       "text": [
        "2015-02-26 15:54:29,987 __main__ 0/1 INFO :: Iteration: 94, Time: 2.880489e+01, dt: 2.216838e+00\n"
       ]
      },
      {
       "output_type": "stream",
       "stream": "stderr",
       "text": [
        "INFO:__main__:Iteration: 95, Time: 3.102173e+01, dt: 2.216838e+00\n"
       ]
      },
      {
       "output_type": "stream",
       "stream": "stdout",
       "text": [
        "2015-02-26 15:54:30,097 __main__ 0/1 INFO :: Iteration: 95, Time: 3.102173e+01, dt: 2.216838e+00\n"
       ]
      },
      {
       "output_type": "stream",
       "stream": "stderr",
       "text": [
        "INFO:__main__:Iteration: 96, Time: 3.323857e+01, dt: 2.216838e+00\n"
       ]
      },
      {
       "output_type": "stream",
       "stream": "stdout",
       "text": [
        "2015-02-26 15:54:30,201 __main__ 0/1 INFO :: Iteration: 96, Time: 3.323857e+01, dt: 2.216838e+00\n"
       ]
      },
      {
       "output_type": "stream",
       "stream": "stderr",
       "text": [
        "INFO:__main__:Iteration: 97, Time: 3.656382e+01, dt: 3.325257e+00\n"
       ]
      },
      {
       "output_type": "stream",
       "stream": "stdout",
       "text": [
        "2015-02-26 15:54:30,303 __main__ 0/1 INFO :: Iteration: 97, Time: 3.656382e+01, dt: 3.325257e+00\n"
       ]
      },
      {
       "output_type": "stream",
       "stream": "stderr",
       "text": [
        "INFO:__main__:Iteration: 98, Time: 3.988908e+01, dt: 3.325257e+00\n"
       ]
      },
      {
       "output_type": "stream",
       "stream": "stdout",
       "text": [
        "2015-02-26 15:54:30,414 __main__ 0/1 INFO :: Iteration: 98, Time: 3.988908e+01, dt: 3.325257e+00\n"
       ]
      },
      {
       "output_type": "stream",
       "stream": "stderr",
       "text": [
        "INFO:__main__:Iteration: 99, Time: 4.321434e+01, dt: 3.325257e+00\n"
       ]
      },
      {
       "output_type": "stream",
       "stream": "stdout",
       "text": [
        "2015-02-26 15:54:30,515 __main__ 0/1 INFO :: Iteration: 99, Time: 4.321434e+01, dt: 3.325257e+00\n"
       ]
      },
      {
       "output_type": "stream",
       "stream": "stderr",
       "text": [
        "INFO:__main__:Iteration: 100, Time: 4.653959e+01, dt: 3.325257e+00\n"
       ]
      },
      {
       "output_type": "stream",
       "stream": "stdout",
       "text": [
        "2015-02-26 15:54:30,624 __main__ 0/1 INFO :: Iteration: 100, Time: 4.653959e+01, dt: 3.325257e+00\n"
       ]
      },
      {
       "output_type": "stream",
       "stream": "stderr",
       "text": [
        "INFO:__main__:Iteration: 101, Time: 4.986485e+01, dt: 3.325257e+00\n"
       ]
      },
      {
       "output_type": "stream",
       "stream": "stdout",
       "text": [
        "2015-02-26 15:54:30,747 __main__ 0/1 INFO :: Iteration: 101, Time: 4.986485e+01, dt: 3.325257e+00\n"
       ]
      },
      {
       "output_type": "stream",
       "stream": "stderr",
       "text": [
        "INFO:__main__:Iteration: 102, Time: 5.485274e+01, dt: 4.987885e+00\n"
       ]
      },
      {
       "output_type": "stream",
       "stream": "stdout",
       "text": [
        "2015-02-26 15:54:30,856 __main__ 0/1 INFO :: Iteration: 102, Time: 5.485274e+01, dt: 4.987885e+00\n"
       ]
      },
      {
       "output_type": "stream",
       "stream": "stderr",
       "text": [
        "INFO:__main__:Iteration: 103, Time: 5.984062e+01, dt: 4.987885e+00\n"
       ]
      },
      {
       "output_type": "stream",
       "stream": "stdout",
       "text": [
        "2015-02-26 15:54:30,957 __main__ 0/1 INFO :: Iteration: 103, Time: 5.984062e+01, dt: 4.987885e+00\n"
       ]
      },
      {
       "output_type": "stream",
       "stream": "stderr",
       "text": [
        "INFO:__main__:Iteration: 104, Time: 6.482851e+01, dt: 4.987885e+00\n"
       ]
      },
      {
       "output_type": "stream",
       "stream": "stdout",
       "text": [
        "2015-02-26 15:54:31,066 __main__ 0/1 INFO :: Iteration: 104, Time: 6.482851e+01, dt: 4.987885e+00\n"
       ]
      },
      {
       "output_type": "stream",
       "stream": "stderr",
       "text": [
        "INFO:__main__:Iteration: 105, Time: 6.981639e+01, dt: 4.987885e+00\n"
       ]
      },
      {
       "output_type": "stream",
       "stream": "stdout",
       "text": [
        "2015-02-26 15:54:31,177 __main__ 0/1 INFO :: Iteration: 105, Time: 6.981639e+01, dt: 4.987885e+00\n"
       ]
      },
      {
       "output_type": "stream",
       "stream": "stderr",
       "text": [
        "INFO:__main__:Iteration: 106, Time: 7.480428e+01, dt: 4.987885e+00\n"
       ]
      },
      {
       "output_type": "stream",
       "stream": "stdout",
       "text": [
        "2015-02-26 15:54:31,281 __main__ 0/1 INFO :: Iteration: 106, Time: 7.480428e+01, dt: 4.987885e+00\n"
       ]
      },
      {
       "output_type": "stream",
       "stream": "stderr",
       "text": [
        "INFO:__main__:Iteration: 107, Time: 8.228610e+01, dt: 7.481828e+00\n"
       ]
      },
      {
       "output_type": "stream",
       "stream": "stdout",
       "text": [
        "2015-02-26 15:54:31,393 __main__ 0/1 INFO :: Iteration: 107, Time: 8.228610e+01, dt: 7.481828e+00\n"
       ]
      },
      {
       "output_type": "stream",
       "stream": "stderr",
       "text": [
        "INFO:__main__:Iteration: 108, Time: 8.976793e+01, dt: 7.481828e+00\n"
       ]
      },
      {
       "output_type": "stream",
       "stream": "stdout",
       "text": [
        "2015-02-26 15:54:31,503 __main__ 0/1 INFO :: Iteration: 108, Time: 8.976793e+01, dt: 7.481828e+00\n"
       ]
      },
      {
       "output_type": "stream",
       "stream": "stderr",
       "text": [
        "INFO:__main__:Iteration: 109, Time: 9.724976e+01, dt: 7.481828e+00\n"
       ]
      },
      {
       "output_type": "stream",
       "stream": "stdout",
       "text": [
        "2015-02-26 15:54:31,612 __main__ 0/1 INFO :: Iteration: 109, Time: 9.724976e+01, dt: 7.481828e+00\n"
       ]
      },
      {
       "output_type": "stream",
       "stream": "stderr",
       "text": [
        "INFO:__main__:Iteration: 110, Time: 1.047316e+02, dt: 7.481828e+00\n"
       ]
      },
      {
       "output_type": "stream",
       "stream": "stdout",
       "text": [
        "2015-02-26 15:54:31,722 __main__ 0/1 INFO :: Iteration: 110, Time: 1.047316e+02, dt: 7.481828e+00\n"
       ]
      },
      {
       "output_type": "stream",
       "stream": "stderr",
       "text": [
        "INFO:__main__:Iteration: 111, Time: 1.122134e+02, dt: 7.481828e+00\n"
       ]
      },
      {
       "output_type": "stream",
       "stream": "stdout",
       "text": [
        "2015-02-26 15:54:31,852 __main__ 0/1 INFO :: Iteration: 111, Time: 1.122134e+02, dt: 7.481828e+00\n"
       ]
      },
      {
       "output_type": "stream",
       "stream": "stderr",
       "text": [
        "INFO:__main__:Iteration: 112, Time: 1.234362e+02, dt: 1.122274e+01\n"
       ]
      },
      {
       "output_type": "stream",
       "stream": "stdout",
       "text": [
        "2015-02-26 15:54:31,963 __main__ 0/1 INFO :: Iteration: 112, Time: 1.234362e+02, dt: 1.122274e+01\n"
       ]
      },
      {
       "output_type": "stream",
       "stream": "stderr",
       "text": [
        "INFO:__main__:Iteration: 113, Time: 1.346589e+02, dt: 1.122274e+01\n"
       ]
      },
      {
       "output_type": "stream",
       "stream": "stdout",
       "text": [
        "2015-02-26 15:54:32,073 __main__ 0/1 INFO :: Iteration: 113, Time: 1.346589e+02, dt: 1.122274e+01\n"
       ]
      },
      {
       "output_type": "stream",
       "stream": "stderr",
       "text": [
        "INFO:__main__:Iteration: 114, Time: 1.458816e+02, dt: 1.122274e+01\n"
       ]
      },
      {
       "output_type": "stream",
       "stream": "stdout",
       "text": [
        "2015-02-26 15:54:32,183 __main__ 0/1 INFO :: Iteration: 114, Time: 1.458816e+02, dt: 1.122274e+01\n"
       ]
      },
      {
       "output_type": "stream",
       "stream": "stderr",
       "text": [
        "INFO:__main__:Iteration: 115, Time: 1.571044e+02, dt: 1.122274e+01\n"
       ]
      },
      {
       "output_type": "stream",
       "stream": "stdout",
       "text": [
        "2015-02-26 15:54:32,293 __main__ 0/1 INFO :: Iteration: 115, Time: 1.571044e+02, dt: 1.122274e+01\n"
       ]
      },
      {
       "output_type": "stream",
       "stream": "stderr",
       "text": [
        "INFO:__main__:Iteration: 116, Time: 1.683271e+02, dt: 1.122274e+01\n"
       ]
      },
      {
       "output_type": "stream",
       "stream": "stdout",
       "text": [
        "2015-02-26 15:54:32,407 __main__ 0/1 INFO :: Iteration: 116, Time: 1.683271e+02, dt: 1.122274e+01\n"
       ]
      },
      {
       "output_type": "stream",
       "stream": "stderr",
       "text": [
        "INFO:__main__:Iteration: 117, Time: 1.851612e+02, dt: 1.683411e+01\n"
       ]
      },
      {
       "output_type": "stream",
       "stream": "stdout",
       "text": [
        "2015-02-26 15:54:32,517 __main__ 0/1 INFO :: Iteration: 117, Time: 1.851612e+02, dt: 1.683411e+01\n"
       ]
      },
      {
       "output_type": "stream",
       "stream": "stderr",
       "text": [
        "INFO:__main__:Iteration: 118, Time: 2.019953e+02, dt: 1.683411e+01\n"
       ]
      },
      {
       "output_type": "stream",
       "stream": "stdout",
       "text": [
        "2015-02-26 15:54:32,626 __main__ 0/1 INFO :: Iteration: 118, Time: 2.019953e+02, dt: 1.683411e+01\n"
       ]
      },
      {
       "output_type": "stream",
       "stream": "stderr",
       "text": [
        "INFO:__main__:Iteration: 119, Time: 2.188295e+02, dt: 1.683411e+01\n"
       ]
      },
      {
       "output_type": "stream",
       "stream": "stdout",
       "text": [
        "2015-02-26 15:54:32,736 __main__ 0/1 INFO :: Iteration: 119, Time: 2.188295e+02, dt: 1.683411e+01\n"
       ]
      },
      {
       "output_type": "stream",
       "stream": "stderr",
       "text": [
        "INFO:solvers:Simulation stop time reached.\n"
       ]
      },
      {
       "output_type": "stream",
       "stream": "stdout",
       "text": [
        "2015-02-26 15:54:32,736 solvers 0/1 INFO :: Simulation stop time reached.\n"
       ]
      },
      {
       "output_type": "stream",
       "stream": "stderr",
       "text": [
        "INFO:__main__:Total time: 12.802896\n"
       ]
      },
      {
       "output_type": "stream",
       "stream": "stdout",
       "text": [
        "2015-02-26 15:54:32,737 __main__ 0/1 INFO :: Total time: 12.802896\n"
       ]
      },
      {
       "output_type": "stream",
       "stream": "stderr",
       "text": [
        "INFO:__main__:Iterations: 119\n"
       ]
      },
      {
       "output_type": "stream",
       "stream": "stdout",
       "text": [
        "2015-02-26 15:54:32,738 __main__ 0/1 INFO :: Iterations: 119\n"
       ]
      },
      {
       "output_type": "stream",
       "stream": "stderr",
       "text": [
        "INFO:__main__:Average timestep: 1.838903\n"
       ]
      },
      {
       "output_type": "stream",
       "stream": "stdout",
       "text": [
        "2015-02-26 15:54:32,738 __main__ 0/1 INFO :: Average timestep: 1.838903\n"
       ]
      }
     ],
     "prompt_number": 18
    },
    {
     "cell_type": "markdown",
     "metadata": {},
     "source": [
      "## Analysis\n",
      "\n",
      "First, let's look at our last time snapshot, plotting the background $v \\mathbf{\\hat{\\theta}}$ velocity with arrows representing the meridional flow:"
     ]
    },
    {
     "cell_type": "code",
     "collapsed": false,
     "input": [
      "figsize(12,8)\n",
      "pcolormesh((r[0]*ones_like(z)).T,(z*ones_like(r)).T,v['g'].T,cmap='PuOr')\n",
      "quiver((r[0]*ones_like(z)).T,(z*ones_like(r)).T,u['g'].T,w['g'].T,width=0.005)\n",
      "axis('image')\n",
      "xlabel('r', fontsize=18)\n",
      "ylabel('z', fontsize=18)"
     ],
     "language": "python",
     "metadata": {},
     "outputs": [
      {
       "metadata": {},
       "output_type": "pyout",
       "prompt_number": 19,
       "text": [
        "<matplotlib.text.Text at 0x7f2c429365c0>"
       ]
      },
      {
       "metadata": {},
       "output_type": "display_data",
       "png": "[encoded data removed]",
       "text": [
        "<matplotlib.figure.Figure at 0x7f2c4298f2e8>"
       ]
      }
     ],
     "prompt_number": 19
    },
    {
     "cell_type": "markdown",
     "metadata": {},
     "source": [
      "But we really want some quantitative comparison with the growth rate $\\gamma_{analytic}$ from Barenghi (1991). First we construct a small helper function to read our timeseries data, and then we load it out of the self-documented HDF5 file"
     ]
    },
    {
     "cell_type": "code",
     "collapsed": false,
     "input": [
      "def get_timeseries(data, field):\n",
      "    data_1d = []\n",
      "    time = data['scales/sim_time'][:]\n",
      "    data_out = data['tasks/%s'%field][:,0,0]\n",
      "    return time, data_out"
     ],
     "language": "python",
     "metadata": {},
     "outputs": [],
     "prompt_number": 20
    },
    {
     "cell_type": "code",
     "collapsed": false,
     "input": [
      "data = h5py.File(\"scalar_data/scalar_data_s1/scalar_data_s1_p0.h5\", \"r\")\n",
      "t, ke = get_timeseries(data, 'total kinetic energy')\n",
      "t, kem = get_timeseries(data, 'meridional kinetic energy')\n",
      "t, urms = get_timeseries(data, 'u_rms')\n",
      "t, wrms = get_timeseries(data, 'w_rms')"
     ],
     "language": "python",
     "metadata": {},
     "outputs": [],
     "prompt_number": 21
    },
    {
     "cell_type": "markdown",
     "metadata": {},
     "source": [
      "In order to compare to Barenghi (1991), we scale our results by the Reynolds number, because we have non-dimensionalized slightly differently than he did. "
     ]
    },
    {
     "cell_type": "code",
     "collapsed": false,
     "input": [
      "t_window = (t/period > 2) & (t/period < 14)\n",
      "\n",
      "gamma_w, log_w0 = np.polyfit(t[t_window], np.log(wrms[t_window]),1)\n",
      "\n",
      "gamma_w_scaled = gamma_w*Re\n",
      "gamma_barenghi = 0.430108693\n",
      "rel_error_barenghi = (gamma_barenghi - gamma_w_scaled)/gamma_barenghi\n",
      "\n",
      "print(\"gamma_w = %10.8f\" % gamma_w_scaled)\n",
      "print(\"relative error = %10.8e\" % rel_error_barenghi)"
     ],
     "language": "python",
     "metadata": {},
     "outputs": [
      {
       "output_type": "stream",
       "stream": "stdout",
       "text": [
        "gamma_w = 0.37201041\n",
        "relative error = 1.35078136e-01\n"
       ]
      }
     ],
     "prompt_number": 22
    },
    {
     "cell_type": "markdown",
     "metadata": {},
     "source": [
      "This looks like a rather high error (order 10% or so), but we know from Barenghi (1991) that the error is dominated by the timestep. Here, we've used a very loose timestep, but if you fix dt (rather than using the CFL calculator), you can get much lower errors at the cost of a longer run.\n",
      "\n",
      "Finally, we plot the RMS $w$ velocity, and compare it with the fitted exponential solution"
     ]
    },
    {
     "cell_type": "code",
     "collapsed": false,
     "input": [
      "fig = figure()\n",
      "ax = fig.add_subplot(111)\n",
      "ax.semilogy(t/period, wrms, 'ko', label=r'$w_{rms}$',ms=10)\n",
      "ax.semilogy(t/period, np.exp(log_w0)*np.exp(gamma_w*t), 'k-.', label='$\\gamma_w = %f$' % gamma_w)\n",
      "ax.legend(loc='upper right',fontsize=18).draw_frame(False)\n",
      "ax.set_xlabel(r\"$t/t_{ic}$\",fontsize=18)\n",
      "ax.set_ylabel(r\"$w_{rms}$\",fontsize=18)\n",
      "\n",
      "fig.savefig('growth_rates.png')"
     ],
     "language": "python",
     "metadata": {},
     "outputs": [
      {
       "metadata": {},
       "output_type": "display_data",
       "png": "[encoded data removed]",
       "text": [
        "<matplotlib.figure.Figure at 0x7f2c429e8da0>"
       ]
      }
     ],
     "prompt_number": 23
    },
    {
     "cell_type": "code",
     "collapsed": false,
     "input": [],
     "language": "python",
     "metadata": {},
     "outputs": [],
     "prompt_number": 23
    }
   ],
   "metadata": {}
  }
 ]
}