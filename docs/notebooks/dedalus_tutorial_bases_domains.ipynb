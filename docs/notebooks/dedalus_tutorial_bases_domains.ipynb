{
 "metadata": {
  "name": "",
  "signature": "sha256:f9b7ff2e4ca1d84d4cd530d3da898c8a1274ea69f77af61844ff2ee49a6bb62c"
 },
 "nbformat": 3,
 "nbformat_minor": 0,
 "worksheets": [
  {
   "cells": [
    {
     "cell_type": "heading",
     "level": 1,
     "metadata": {},
     "source": [
      "1. Bases and Domains"
     ]
    },
    {
     "cell_type": "markdown",
     "metadata": {},
     "source": [
      "This tutorial covers the basics of setting up and interacting with basis and domain objects in Dedalus."
     ]
    },
    {
     "cell_type": "markdown",
     "metadata": {},
     "source": [
      "First, we'll import the public interface:"
     ]
    },
    {
     "cell_type": "code",
     "collapsed": false,
     "input": [
      "from dedalus2 import public as de\n",
      "import numpy as np"
     ],
     "language": "python",
     "metadata": {},
     "outputs": [],
     "prompt_number": 1
    },
    {
     "cell_type": "heading",
     "level": 2,
     "metadata": {},
     "source": [
      "Bases"
     ]
    },
    {
     "cell_type": "heading",
     "level": 3,
     "metadata": {},
     "source": [
      "Creating a basis"
     ]
    },
    {
     "cell_type": "markdown",
     "metadata": {},
     "source": [
      "Each basis is represented by a separate class, e.g. `Cheybhsev` and `Fourier`.  When instantiating a basis, you specify the number of grid points as well as a basis interval as a `(left, right)` tuple.  \n",
      "\n",
      "Optionally, you can specify a dealiasing fraction, indicating what fraction of modes to retain after a transform.  To properly dealias quadratic nonlinearities, for instance, you would need a fraction $\\le 2/3$."
     ]
    },
    {
     "cell_type": "code",
     "collapsed": false,
     "input": [
      "xbasis = de.Chebyshev(32, interval=(0,5), dealias=2/3)"
     ],
     "language": "python",
     "metadata": {},
     "outputs": [],
     "prompt_number": 2
    },
    {
     "cell_type": "heading",
     "level": 3,
     "metadata": {},
     "source": [
      "Basis methods / attributes"
     ]
    },
    {
     "cell_type": "markdown",
     "metadata": {},
     "source": [
      "*The methods and attributes mentioned in this section typically don't need to be directly accessed by the user during a simulation, but are instead used by other parts of the code.*\n",
      "\n",
      "Basis objects have associated methods for transforming, differentiating, and integrating fields, but these are typically accessed through fields methods and operators, which we'll cover later.\n",
      "\n",
      "The *global* grid for a basis is available as a 1D array through the `grid` attribute, but the *local* grids are typically accessed through the domain object, which we'll also cover later.  Here's a quick look at the global grid of the basis we just created:"
     ]
    },
    {
     "cell_type": "code",
     "collapsed": false,
     "input": [
      "xbasis.grid"
     ],
     "language": "python",
     "metadata": {},
     "outputs": [
      {
       "metadata": {},
       "output_type": "pyout",
       "prompt_number": 3,
       "text": [
        "array([ 5.        ,  4.98717331,  4.94882485,  4.88534814,  4.79739453,\n",
        "        4.68586654,  4.5519086 ,  4.39689531,  4.2224173 ,  4.03026496,\n",
        "        3.82241003,  3.60098538,  3.36826313,  3.12663133,  2.87856944,\n",
        "        2.62662292,  2.37337708,  2.12143056,  1.87336867,  1.63173687,\n",
        "        1.39901462,  1.17758997,  0.96973504,  0.7775827 ,  0.60310469,\n",
        "        0.4480914 ,  0.31413346,  0.20260547,  0.11465186,  0.05117515,\n",
        "        0.01282669,  0.        ])"
       ]
      }
     ],
     "prompt_number": 3
    },
    {
     "cell_type": "heading",
     "level": 4,
     "metadata": {},
     "source": [
      "Implicit matrices"
     ]
    },
    {
     "cell_type": "markdown",
     "metadata": {},
     "source": [
      "The matrices used for implicit timestepping with the tau method are available as basis attributes.  They're stored in sparse formats using `scipy.sparse`.  \n",
      "\n",
      "Before we examine them, we'll set the basis transform datatype:"
     ]
    },
    {
     "cell_type": "code",
     "collapsed": false,
     "input": [
      "xbasis.set_transforms(np.float64)"
     ],
     "language": "python",
     "metadata": {},
     "outputs": [
      {
       "metadata": {},
       "output_type": "pyout",
       "prompt_number": 4,
       "text": [
        "numpy.float64"
       ]
      }
     ],
     "prompt_number": 4
    },
    {
     "cell_type": "markdown",
     "metadata": {},
     "source": [
      "And define a helper function to make the matrix plotting easy:"
     ]
    },
    {
     "cell_type": "code",
     "collapsed": false,
     "input": [
      "def matrix_plot(matrix, clim):\n",
      "    if np.isscalar(clim):\n",
      "        clim = (-clim, clim)\n",
      "    plt.imshow(matrix, clim=clim, cmap='RdBu_r')\n",
      "    plt.colorbar()\n",
      "    \n",
      "def sparse_matrix_plot(matrix, clim):\n",
      "    matrix_plot(matrix.todense(), clim)"
     ],
     "language": "python",
     "metadata": {},
     "outputs": [],
     "prompt_number": 5
    },
    {
     "cell_type": "markdown",
     "metadata": {},
     "source": [
      "Now we'll take a look at the preconditioning matrix, which takes type-1 Chebyshev polynomials ($T_n$) to type-2 ($U_n$):"
     ]
    },
    {
     "cell_type": "code",
     "collapsed": false,
     "input": [
      "sparse_matrix_plot(xbasis.Pre, clim=1)"
     ],
     "language": "python",
     "metadata": {},
     "outputs": [
      {
       "metadata": {},
       "output_type": "display_data",
       "png": "[encoded data removed]",
       "text": [
        "<matplotlib.figure.Figure at 0x107273890>"
       ]
      }
     ],
     "prompt_number": 6
    },
    {
     "cell_type": "markdown",
     "metadata": {},
     "source": [
      "Now we'll look at the $T \\rightarrow T$ differentiation matrix:"
     ]
    },
    {
     "cell_type": "code",
     "collapsed": false,
     "input": [
      "sparse_matrix_plot(xbasis.Diff, clim=25)"
     ],
     "language": "python",
     "metadata": {},
     "outputs": [
      {
       "metadata": {},
       "output_type": "display_data",
       "png": "[encoded data removed]",
       "text": [
        "<matplotlib.figure.Figure at 0x10735e650>"
       ]
      }
     ],
     "prompt_number": 7
    },
    {
     "cell_type": "markdown",
     "metadata": {},
     "source": [
      "The preconditioned $T \\rightarrow U$ differentiation matrix is much sparser, and used in the implicit solves:"
     ]
    },
    {
     "cell_type": "code",
     "collapsed": false,
     "input": [
      "sparse_matrix_plot(xbasis.Pre*xbasis.Diff, clim=15)"
     ],
     "language": "python",
     "metadata": {},
     "outputs": [
      {
       "metadata": {},
       "output_type": "display_data",
       "png": "[encoded data removed]",
       "text": [
        "<matplotlib.figure.Figure at 0x1074a52d0>"
       ]
      }
     ],
     "prompt_number": 8
    },
    {
     "cell_type": "markdown",
     "metadata": {},
     "source": [
      "The $p$-th multiplication matrix encodes multiplication by $T_p$, i.e. for $p=2$:"
     ]
    },
    {
     "cell_type": "code",
     "collapsed": false,
     "input": [
      "sparse_matrix_plot(xbasis.Mult(2, 0), clim=1)"
     ],
     "language": "python",
     "metadata": {},
     "outputs": [
      {
       "metadata": {},
       "output_type": "display_data",
       "png": "[encoded data removed]",
       "text": [
        "<matplotlib.figure.Figure at 0x1072e3a10>"
       ]
      }
     ],
     "prompt_number": 9
    },
    {
     "cell_type": "markdown",
     "metadata": {},
     "source": [
      "Finally, matrices encoding evaluation at the left and right boundaries, and integrating the series, are used to enforce boundary conditions by replacing the Galerkin constraint on $T_N$, i.e. replacing the last rows of the equation matrices in the tau scheme:"
     ]
    },
    {
     "cell_type": "code",
     "collapsed": false,
     "input": [
      "sparse_matrix_plot(xbasis.Left, clim=2)"
     ],
     "language": "python",
     "metadata": {},
     "outputs": [
      {
       "metadata": {},
       "output_type": "display_data",
       "png": "[encoded data removed]",
       "text": [
        "<matplotlib.figure.Figure at 0x10745c650>"
       ]
      }
     ],
     "prompt_number": 10
    },
    {
     "cell_type": "code",
     "collapsed": false,
     "input": [
      "sparse_matrix_plot(xbasis.Right, clim=2)"
     ],
     "language": "python",
     "metadata": {},
     "outputs": [
      {
       "metadata": {},
       "output_type": "display_data",
       "png": "[encoded data removed]",
       "text": [
        "<matplotlib.figure.Figure at 0x1072d25d0>"
       ]
      }
     ],
     "prompt_number": 11
    },
    {
     "cell_type": "code",
     "collapsed": false,
     "input": [
      "sparse_matrix_plot(xbasis.Int, clim=2)"
     ],
     "language": "python",
     "metadata": {},
     "outputs": [
      {
       "metadata": {},
       "output_type": "display_data",
       "png": "[encoded data removed]",
       "text": [
        "<matplotlib.figure.Figure at 0x107293710>"
       ]
      }
     ],
     "prompt_number": 12
    },
    {
     "cell_type": "heading",
     "level": 3,
     "metadata": {},
     "source": [
      "Compound basis"
     ]
    },
    {
     "cell_type": "markdown",
     "metadata": {},
     "source": [
      "A compound basis can be constructed simply by grouping a set of bases defined over adjascent intervals:"
     ]
    },
    {
     "cell_type": "code",
     "collapsed": false,
     "input": [
      "xbasis_1 = de.Chebyshev(16, interval=(0,2))\n",
      "xbasis_2 = de.Chebyshev(32, interval=(2,8))\n",
      "xbasis_3 = de.Chebyshev(16, interval=(8,10))\n",
      "xbasis = de.Compound((xbasis_1, xbasis_2, xbasis_3))\n",
      "xbasis.set_transforms(np.float64)"
     ],
     "language": "python",
     "metadata": {},
     "outputs": [
      {
       "metadata": {},
       "output_type": "pyout",
       "prompt_number": 13,
       "text": [
        "numpy.float64"
       ]
      }
     ],
     "prompt_number": 13
    },
    {
     "cell_type": "markdown",
     "metadata": {},
     "source": [
      "A compound basis's attributes and methods can be accessed like those for a stand-alone basis.  Let's take a look at the compound grid:"
     ]
    },
    {
     "cell_type": "code",
     "collapsed": false,
     "input": [
      "plt.figure(figsize=(10, 1))\n",
      "plt.plot(xbasis.grid, np.zeros_like(xbasis.grid), '.')\n",
      "plt.gca().yaxis.set_ticks([]);"
     ],
     "language": "python",
     "metadata": {},
     "outputs": [
      {
       "metadata": {},
       "output_type": "display_data",
       "png": "[encoded data removed]",
       "text": [
        "<matplotlib.figure.Figure at 0x107377750>"
       ]
      }
     ],
     "prompt_number": 14
    },
    {
     "cell_type": "markdown",
     "metadata": {},
     "source": [
      "The compound basis matrices are properly joined / modified forms of those of the subbases:"
     ]
    },
    {
     "cell_type": "code",
     "collapsed": false,
     "input": [
      "sparse_matrix_plot(xbasis.Pre*xbasis.Diff, clim=20)"
     ],
     "language": "python",
     "metadata": {},
     "outputs": [
      {
       "metadata": {},
       "output_type": "display_data",
       "png": "[encoded data removed]",
       "text": [
        "<matplotlib.figure.Figure at 0x107457810>"
       ]
      }
     ],
     "prompt_number": 15
    },
    {
     "cell_type": "heading",
     "level": 2,
     "metadata": {},
     "source": [
      "Domains"
     ]
    },
    {
     "cell_type": "markdown",
     "metadata": {},
     "source": [
      "Domain objects represent physical domains, spanned by a set of orthogonal bases.  Dedalus supports $N$-dimensional domains, however implicit timestepping can only be used if the first $(N-1)$ dimensions are separable, meaning that the linear parts of the transformed differential equations are uncoupled between modes in this subspace.\n",
      "\n",
      "Currently the only such \"implicit basis\" is the Fourier basis.  A $\\sin$ & $\\cos$ parity basis, as well as a spin-weighted spherical harmonic basis, are in progress.\n",
      "\n",
      "Let's construct a real 2D domain using a Fourier and a Chebyshev basis:"
     ]
    },
    {
     "cell_type": "code",
     "collapsed": false,
     "input": [
      "xbasis = de.Fourier(16, interval=(0,2), dealias=2/3)\n",
      "ybasis = de.Chebyshev(16, interval=(0,1), dealias=2/3)\n",
      "domain = de.Domain([xbasis, ybasis], grid_dtype=np.float64, mesh=[1])"
     ],
     "language": "python",
     "metadata": {},
     "outputs": [],
     "prompt_number": 16
    },
    {
     "cell_type": "markdown",
     "metadata": {},
     "source": [
      "The primary function of the domain object is to build the machinery necessary for the distributed/parallelized allocation and transformation of fields.  Dedalus supports distributing $N$-dimensional fields over an arbitrary $(N-1)$-dimensional mesh of processes.\n",
      "\n",
      "This is done by creating `layout` objects which describe all necessary transform/distribution states of the data between coefficient space and grid space.  Subsequent layouts are connected by basis transforms, which must be performed locally, and global transposes to achieve the required locality.\n",
      "\n",
      "The general algorithm starts from coefficient space, with the last axis local (non-distributed).  It proceeds to grid space by transforming the last axis into grid space, globally transposing such that the previous axis is local, transforming it into grid space, etc.  \n",
      "\n",
      "Let's examine the layouts for the domain we just constructed:"
     ]
    },
    {
     "cell_type": "code",
     "collapsed": false,
     "input": [
      "for layout in domain.distributor.layouts:\n",
      "    print('Layout', layout.index, ': Grid space:', layout.grid_space, ', Local:', layout.local)"
     ],
     "language": "python",
     "metadata": {},
     "outputs": [
      {
       "output_type": "stream",
       "stream": "stdout",
       "text": [
        "Layout 0 : Grid space: [False False] , Local: [ True  True]\n",
        "Layout 1 : Grid space: [False  True] , Local: [ True  True]\n",
        "Layout 2 : Grid space: [ True  True] , Local: [ True  True]\n"
       ]
      }
     ],
     "prompt_number": 17
    },
    {
     "cell_type": "markdown",
     "metadata": {},
     "source": [
      "Since this is being performed serially, no global transposes are necessary (all axes are local), and the paths between layouts proceed as coefficient-to-grid transforms, backwards from the last axis.\n",
      "\n",
      "To get an idea of the distributed process, we'll rebuild the layouts, circumventing the checks on the number of available processes, etc.:\n",
      "\n",
      "**Note this is for demonstration only... messing with these attributes will generally break things.**"
     ]
    },
    {
     "cell_type": "code",
     "collapsed": false,
     "input": [
      "# Don't do this.\n",
      "domain.distributor.mesh = np.array([4])\n",
      "domain.distributor.coords = np.array([0])\n",
      "domain.distributor._build_layouts(domain, dry_run=True)"
     ],
     "language": "python",
     "metadata": {},
     "outputs": [],
     "prompt_number": 18
    },
    {
     "cell_type": "code",
     "collapsed": false,
     "input": [
      "for layout in domain.distributor.layouts:\n",
      "    print('Layout', layout.index, ': Grid space:', layout.grid_space, ', Local:', layout.local)"
     ],
     "language": "python",
     "metadata": {},
     "outputs": [
      {
       "output_type": "stream",
       "stream": "stdout",
       "text": [
        "Layout 0 : Grid space: [False False] , Local: [False  True]\n",
        "Layout 1 : Grid space: [False  True] , Local: [False  True]\n",
        "Layout 2 : Grid space: [False  True] , Local: [ True False]\n",
        "Layout 3 : Grid space: [ True  True] , Local: [ True False]\n"
       ]
      }
     ],
     "prompt_number": 19
    },
    {
     "cell_type": "markdown",
     "metadata": {},
     "source": [
      "We can see that there is an additional layout, corresponding to the transposed state of layout 1.  This global transpose is necessary so that the x axis is local, which is required in order to perform the x transform."
     ]
    },
    {
     "cell_type": "heading",
     "level": 3,
     "metadata": {},
     "source": [
      "Domain attributes"
     ]
    },
    {
     "cell_type": "markdown",
     "metadata": {},
     "source": [
      "Let's rebuild our previous domain before proceeding."
     ]
    },
    {
     "cell_type": "code",
     "collapsed": false,
     "input": [
      "xbasis = de.Fourier(16, interval=(0,2), dealias=2/3)\n",
      "ybasis = de.Chebyshev(16, interval=(0,1), dealias=2/3)\n",
      "domain = de.Domain([xbasis, ybasis], grid_dtype=np.float64, mesh=[1])"
     ],
     "language": "python",
     "metadata": {},
     "outputs": [],
     "prompt_number": 20
    },
    {
     "cell_type": "markdown",
     "metadata": {},
     "source": [
      "Domain objects construct properly oriented and local (i.e. distributed when running in parallel) grids from the basis grids.  The first grid is a column-vector version of the Fourier (xbasis) grid:"
     ]
    },
    {
     "cell_type": "code",
     "collapsed": false,
     "input": [
      "domain.grid(0)"
     ],
     "language": "python",
     "metadata": {},
     "outputs": [
      {
       "metadata": {},
       "output_type": "pyout",
       "prompt_number": 21,
       "text": [
        "array([[ 0.   ],\n",
        "       [ 0.125],\n",
        "       [ 0.25 ],\n",
        "       [ 0.375],\n",
        "       [ 0.5  ],\n",
        "       [ 0.625],\n",
        "       [ 0.75 ],\n",
        "       [ 0.875],\n",
        "       [ 1.   ],\n",
        "       [ 1.125],\n",
        "       [ 1.25 ],\n",
        "       [ 1.375],\n",
        "       [ 1.5  ],\n",
        "       [ 1.625],\n",
        "       [ 1.75 ],\n",
        "       [ 1.875]])"
       ]
      }
     ],
     "prompt_number": 21
    },
    {
     "cell_type": "markdown",
     "metadata": {},
     "source": [
      "And the next is a row-vector version of the Chebyshev (ybasis) grid:"
     ]
    },
    {
     "cell_type": "code",
     "collapsed": false,
     "input": [
      "domain.grid(1)"
     ],
     "language": "python",
     "metadata": {},
     "outputs": [
      {
       "metadata": {},
       "output_type": "pyout",
       "prompt_number": 22,
       "text": [
        "array([[ 1.        ,  0.9890738 ,  0.95677273,  0.9045085 ,  0.8345653 ,\n",
        "         0.75      ,  0.6545085 ,  0.55226423,  0.44773577,  0.3454915 ,\n",
        "         0.25      ,  0.1654347 ,  0.0954915 ,  0.04322727,  0.0109262 ,\n",
        "         0.        ]])"
       ]
      }
     ],
     "prompt_number": 22
    },
    {
     "cell_type": "markdown",
     "metadata": {},
     "source": [
      "These grids are commonly used to e.g. construct initial conditions."
     ]
    },
    {
     "cell_type": "heading",
     "level": 1,
     "metadata": {},
     "source": [
      "Next: 2. Fields and Operators"
     ]
    }
   ],
   "metadata": {}
  }
 ]
}