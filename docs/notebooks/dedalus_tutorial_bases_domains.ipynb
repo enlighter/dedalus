{
 "metadata": {
  "name": "",
  "signature": "sha256:b8f4dc6ccef6189068ce9377696023bc1d6c3b7a9132fbcc107a8de8cdb8e8f7"
 },
 "nbformat": 3,
 "nbformat_minor": 0,
 "worksheets": [
  {
   "cells": [
    {
     "cell_type": "heading",
     "level": 1,
     "metadata": {},
     "source": [
      "1. Bases and Domains"
     ]
    },
    {
     "cell_type": "markdown",
     "metadata": {},
     "source": [
      "This tutorial covers the basics of setting up and interacting with basis and domain objects in Dedalus."
     ]
    },
    {
     "cell_type": "markdown",
     "metadata": {},
     "source": [
      "First, we'll import the public interface:"
     ]
    },
    {
     "cell_type": "code",
     "collapsed": false,
     "input": [
      "%pylab inline"
     ],
     "language": "python",
     "metadata": {},
     "outputs": [
      {
       "output_type": "stream",
       "stream": "stdout",
       "text": [
        "Populating the interactive namespace from numpy and matplotlib\n"
       ]
      }
     ],
     "prompt_number": 1
    },
    {
     "cell_type": "code",
     "collapsed": false,
     "input": [
      "from dedalus import public as de\n",
      "import numpy as np"
     ],
     "language": "python",
     "metadata": {},
     "outputs": [],
     "prompt_number": 2
    },
    {
     "cell_type": "heading",
     "level": 2,
     "metadata": {},
     "source": [
      "Bases"
     ]
    },
    {
     "cell_type": "heading",
     "level": 3,
     "metadata": {},
     "source": [
      "Creating a basis"
     ]
    },
    {
     "cell_type": "markdown",
     "metadata": {},
     "source": [
      "Each basis is represented by a separate class, e.g. `Cheybhsev` and `Fourier`.  When instantiating a basis, you specify the number of grid points as well as a basis interval as a `(left, right)` tuple.  \n",
      "\n",
      "Optionally, you can specify a dealiasing fraction, indicating what fraction of modes to retain after a transform.  To properly dealias quadratic nonlinearities, for instance, you would need a fraction $\\le 2/3$."
     ]
    },
    {
     "cell_type": "code",
     "collapsed": false,
     "input": [
      "xbasis = de.Chebyshev('x',32, interval=(0,5), dealias=2/3)"
     ],
     "language": "python",
     "metadata": {},
     "outputs": [],
     "prompt_number": 3
    },
    {
     "cell_type": "heading",
     "level": 3,
     "metadata": {},
     "source": [
      "Basis methods / attributes"
     ]
    },
    {
     "cell_type": "markdown",
     "metadata": {},
     "source": [
      "*The methods and attributes mentioned in this section typically don't need to be directly accessed by the user during a simulation, but are instead used by other parts of the code.*\n",
      "\n",
      "Basis objects have associated methods for transforming, differentiating, and integrating fields, but these are typically accessed through fields methods and operators, which we'll cover later.\n",
      "\n",
      "The *global* grid for a basis is available as a 1D array through the `grid` attribute, but the *local* grids are typically accessed through the domain object, which we'll also cover later.  Here's a quick look at the global grid of the basis we just created:"
     ]
    },
    {
     "cell_type": "code",
     "collapsed": false,
     "input": [
      "xbasis.grid()"
     ],
     "language": "python",
     "metadata": {},
     "outputs": [
      {
       "metadata": {},
       "output_type": "pyout",
       "prompt_number": 4,
       "text": [
        "array([  3.01135949e-03,   2.70587251e-02,   7.49218670e-02,\n",
        "         1.46139837e-01,   2.40026767e-01,   3.55678475e-01,\n",
        "         4.91981171e-01,   6.47622187e-01,   8.21102613e-01,\n",
        "         1.01075174e+00,   1.21474314e+00,   1.43111227e+00,\n",
        "         1.65777537e+00,   1.89254955e+00,   2.13317381e+00,\n",
        "         2.37733081e+00,   2.62266919e+00,   2.86682619e+00,\n",
        "         3.10745045e+00,   3.34222463e+00,   3.56888773e+00,\n",
        "         3.78525686e+00,   3.98924826e+00,   4.17889739e+00,\n",
        "         4.35237781e+00,   4.50801883e+00,   4.64432153e+00,\n",
        "         4.75997323e+00,   4.85386016e+00,   4.92507813e+00,\n",
        "         4.97294127e+00,   4.99698864e+00])"
       ]
      }
     ],
     "prompt_number": 4
    },
    {
     "cell_type": "heading",
     "level": 4,
     "metadata": {},
     "source": [
      "Implicit matrices"
     ]
    },
    {
     "cell_type": "markdown",
     "metadata": {},
     "source": [
      "The matrices used for implicit timestepping with the tau method are available as basis attributes.  They're stored in sparse formats using `scipy.sparse`.  \n",
      "\n",
      "Before we examine them, we'll set the basis transform datatype:"
     ]
    },
    {
     "cell_type": "code",
     "collapsed": false,
     "input": [
      "xbasis.set_dtype(np.float64)"
     ],
     "language": "python",
     "metadata": {},
     "outputs": [
      {
       "metadata": {},
       "output_type": "pyout",
       "prompt_number": 5,
       "text": [
        "dtype('float64')"
       ]
      }
     ],
     "prompt_number": 5
    },
    {
     "cell_type": "markdown",
     "metadata": {},
     "source": [
      "And define a helper function to make the matrix plotting easy:"
     ]
    },
    {
     "cell_type": "code",
     "collapsed": false,
     "input": [
      "def matrix_plot(matrix, clim):\n",
      "    if np.isscalar(clim):\n",
      "        clim = (-clim, clim)\n",
      "    plt.imshow(matrix, clim=clim, cmap='RdBu_r',interpolation='none')\n",
      "    plt.colorbar()\n",
      "    \n",
      "def sparse_matrix_plot(matrix, clim):\n",
      "    matrix_plot(matrix.todense(), clim)"
     ],
     "language": "python",
     "metadata": {},
     "outputs": [],
     "prompt_number": 6
    },
    {
     "cell_type": "markdown",
     "metadata": {},
     "source": [
      "Now we'll take a look at the preconditioning matrix, which takes type-1 Chebyshev polynomials ($T_n$) to type-2 ($U_n$):"
     ]
    },
    {
     "cell_type": "code",
     "collapsed": false,
     "input": [
      "sparse_matrix_plot(xbasis.Precondition, clim=1)"
     ],
     "language": "python",
     "metadata": {},
     "outputs": [
      {
       "metadata": {},
       "output_type": "display_data",
       "png": "[encoded data removed]",
       "text": [
        "<matplotlib.figure.Figure at 0x7fbaf7d68b38>"
       ]
      }
     ],
     "prompt_number": 7
    },
    {
     "cell_type": "markdown",
     "metadata": {},
     "source": [
      "Now we'll look at the $T \\rightarrow T$ differentiation matrix:"
     ]
    },
    {
     "cell_type": "code",
     "collapsed": false,
     "input": [
      "sparse_matrix_plot(xbasis.Differentiate.matrix_form(), clim=25)"
     ],
     "language": "python",
     "metadata": {},
     "outputs": [
      {
       "metadata": {},
       "output_type": "display_data",
       "png": "[encoded data removed]",
       "text": [
        "<matplotlib.figure.Figure at 0x7fbaf7d68978>"
       ]
      }
     ],
     "prompt_number": 8
    },
    {
     "cell_type": "markdown",
     "metadata": {},
     "source": [
      "The preconditioned $T \\rightarrow U$ differentiation matrix is much sparser, and used in the implicit solves:"
     ]
    },
    {
     "cell_type": "code",
     "collapsed": false,
     "input": [
      "sparse_matrix_plot(xbasis.Precondition*xbasis.Differentiate.matrix_form(), clim=15)"
     ],
     "language": "python",
     "metadata": {},
     "outputs": [
      {
       "metadata": {},
       "output_type": "display_data",
       "png": "[encoded data removed]",
       "text": [
        "<matplotlib.figure.Figure at 0x7fbaefe3fc50>"
       ]
      }
     ],
     "prompt_number": 9
    },
    {
     "cell_type": "markdown",
     "metadata": {},
     "source": [
      "The $p$-th multiplication matrix encodes multiplication by $T_p$, i.e. for $p=2$:"
     ]
    },
    {
     "cell_type": "code",
     "collapsed": false,
     "input": [
      "sparse_matrix_plot(xbasis.Multiply(2), clim=1)"
     ],
     "language": "python",
     "metadata": {},
     "outputs": [
      {
       "metadata": {},
       "output_type": "display_data",
       "png": "[encoded data removed]",
       "text": [
        "<matplotlib.figure.Figure at 0x7fbaeff9f438>"
       ]
      }
     ],
     "prompt_number": 10
    },
    {
     "cell_type": "markdown",
     "metadata": {},
     "source": [
      "Finally, matrices encoding evaluation at the left and right boundaries, and integrating the series, are used to enforce boundary conditions by replacing the Galerkin constraint on $T_N$, i.e. replacing the last rows of the equation matrices in the tau scheme:"
     ]
    },
    {
     "cell_type": "code",
     "collapsed": false,
     "input": [
      "sparse_matrix_plot(xbasis.Interpolate._interp_matrix('left'),clim=2)"
     ],
     "language": "python",
     "metadata": {},
     "outputs": [
      {
       "metadata": {},
       "output_type": "display_data",
       "png": "[encoded data removed]",
       "text": [
        "<matplotlib.figure.Figure at 0x7fbaefef1cc0>"
       ]
      }
     ],
     "prompt_number": 11
    },
    {
     "cell_type": "code",
     "collapsed": false,
     "input": [
      "sparse_matrix_plot(xbasis.Interpolate._interp_matrix('right'), clim=2)"
     ],
     "language": "python",
     "metadata": {},
     "outputs": [
      {
       "metadata": {},
       "output_type": "display_data",
       "png": "[encoded data removed]",
       "text": [
        "<matplotlib.figure.Figure at 0x7fbaeff40c88>"
       ]
      }
     ],
     "prompt_number": 12
    },
    {
     "cell_type": "code",
     "collapsed": false,
     "input": [
      "sparse_matrix_plot(xbasis.Integrate.matrix_form(), clim=2)"
     ],
     "language": "python",
     "metadata": {},
     "outputs": [
      {
       "metadata": {},
       "output_type": "display_data",
       "png": "[encoded data removed]",
       "text": [
        "<matplotlib.figure.Figure at 0x7fbaefec42e8>"
       ]
      }
     ],
     "prompt_number": 13
    },
    {
     "cell_type": "heading",
     "level": 3,
     "metadata": {},
     "source": [
      "Compound basis"
     ]
    },
    {
     "cell_type": "markdown",
     "metadata": {},
     "source": [
      "A compound basis can be constructed simply by grouping a set of bases defined over adjacent intervals:"
     ]
    },
    {
     "cell_type": "code",
     "collapsed": false,
     "input": [
      "xbasis_1 = de.Chebyshev('x',16, interval=(0,2))\n",
      "xbasis_2 = de.Chebyshev('x',32, interval=(2,8))\n",
      "xbasis_3 = de.Chebyshev('x',16, interval=(8,10))\n",
      "xbasis = de.Compound('x',(xbasis_1, xbasis_2, xbasis_3))\n",
      "xbasis.set_dtype(np.float64)"
     ],
     "language": "python",
     "metadata": {},
     "outputs": [
      {
       "metadata": {},
       "output_type": "pyout",
       "prompt_number": 14,
       "text": [
        "dtype('float64')"
       ]
      }
     ],
     "prompt_number": 14
    },
    {
     "cell_type": "markdown",
     "metadata": {},
     "source": [
      "A compound basis's attributes and methods can be accessed like those for a stand-alone basis.  Let's take a look at the compound grid:"
     ]
    },
    {
     "cell_type": "code",
     "collapsed": false,
     "input": [
      "plt.figure(figsize=(10, 1))\n",
      "plt.plot(xbasis.grid(), np.zeros_like(xbasis.grid()), 'o',markersize=5)\n",
      "plt.gca().yaxis.set_ticks([]);"
     ],
     "language": "python",
     "metadata": {},
     "outputs": [
      {
       "metadata": {},
       "output_type": "display_data",
       "png": "[encoded data removed]",
       "text": [
        "<matplotlib.figure.Figure at 0x7fbaeff9efd0>"
       ]
      }
     ],
     "prompt_number": 15
    },
    {
     "cell_type": "markdown",
     "metadata": {},
     "source": [
      "The compound basis matrices are properly joined / modified forms of those of the subbases:"
     ]
    },
    {
     "cell_type": "code",
     "collapsed": false,
     "input": [
      "sparse_matrix_plot(xbasis.Precondition*xbasis.Differentiate.matrix_form(), clim=20)"
     ],
     "language": "python",
     "metadata": {},
     "outputs": [
      {
       "metadata": {},
       "output_type": "display_data",
       "png": "[encoded data removed]",
       "text": [
        "<matplotlib.figure.Figure at 0x7fbaeffd8e48>"
       ]
      }
     ],
     "prompt_number": 16
    },
    {
     "cell_type": "heading",
     "level": 2,
     "metadata": {},
     "source": [
      "Domains"
     ]
    },
    {
     "cell_type": "markdown",
     "metadata": {},
     "source": [
      "Domain objects represent physical domains, spanned by a set of orthogonal bases.  Dedalus supports $N$-dimensional domains, however implicit timestepping can only be used if the first $(N-1)$ dimensions are separable, meaning that the linear parts of the transformed differential equations are uncoupled between modes in this subspace.\n",
      "\n",
      "Currently the only such \"implicit basis\" is the Fourier basis.  A $\\sin$ & $\\cos$ parity basis, as well as a spin-weighted spherical harmonic basis, are in progress.\n",
      "\n",
      "Let's construct a real 2D domain using a Fourier and a Chebyshev basis:"
     ]
    },
    {
     "cell_type": "code",
     "collapsed": false,
     "input": [
      "xbasis = de.Fourier('x',16, interval=(0,2), dealias=3/2)\n",
      "ybasis = de.Chebyshev('y',16, interval=(0,1), dealias=3/2)\n",
      "domain = de.Domain([xbasis, ybasis], grid_dtype=np.float64, mesh=[1])"
     ],
     "language": "python",
     "metadata": {},
     "outputs": [
      {
       "output_type": "stream",
       "stream": "stderr",
       "text": [
        "DEBUG:domain:Global coeff shape: [ 8 16]\n"
       ]
      },
      {
       "output_type": "stream",
       "stream": "stderr",
       "text": [
        "DEBUG:distributor:Mesh: []\n"
       ]
      }
     ],
     "prompt_number": 17
    },
    {
     "cell_type": "markdown",
     "metadata": {},
     "source": [
      "The primary function of the domain object is to build the machinery necessary for the distributed/parallelized allocation and transformation of fields.  Dedalus supports distributing $N$-dimensional fields over an arbitrary $(N-1)$-dimensional mesh of processes.\n",
      "\n",
      "This is done by creating `layout` objects which describe all necessary transform/distribution states of the data between coefficient space and grid space.  Subsequent layouts are connected by basis transforms, which must be performed locally, and global transposes to achieve the required locality.\n",
      "\n",
      "The general algorithm starts from coefficient space, with the last axis local (non-distributed).  It proceeds to grid space by transforming the last axis into grid space, globally transposing such that the previous axis is local, transforming it into grid space, etc.  \n",
      "\n",
      "Let's examine the layouts for the domain we just constructed:"
     ]
    },
    {
     "cell_type": "code",
     "collapsed": false,
     "input": [
      "for layout in domain.distributor.layouts:\n",
      "    print('Layout', layout.index, ': Grid space:', layout.grid_space, ', Local:', layout.local)"
     ],
     "language": "python",
     "metadata": {},
     "outputs": [
      {
       "output_type": "stream",
       "stream": "stdout",
       "text": [
        "Layout 0 : Grid space: [False False] , Local: [ True  True]\n",
        "Layout 1 : Grid space: [False  True] , Local: [ True  True]\n",
        "Layout 2 : Grid space: [ True  True] , Local: [ True  True]\n"
       ]
      }
     ],
     "prompt_number": 18
    },
    {
     "cell_type": "markdown",
     "metadata": {},
     "source": [
      "Since this is being performed serially, no global transposes are necessary (all axes are local), and the paths between layouts proceed as coefficient-to-grid transforms, backwards from the last axis.\n",
      "\n",
      "To get an idea of the distributed process, we'll rebuild the layouts, circumventing the checks on the number of available processes, etc.:\n",
      "\n",
      "**Note this is for demonstration only... messing with these attributes will generally break things.**"
     ]
    },
    {
     "cell_type": "code",
     "collapsed": false,
     "input": [
      "# Don't do this.\n",
      "domain.distributor.mesh = np.array([4])\n",
      "domain.distributor.coords = np.array([0])\n",
      "domain.distributor._build_layouts(domain, dry_run=True)"
     ],
     "language": "python",
     "metadata": {},
     "outputs": [],
     "prompt_number": 19
    },
    {
     "cell_type": "code",
     "collapsed": false,
     "input": [
      "for layout in domain.distributor.layouts:\n",
      "    print('Layout', layout.index, ': Grid space:', layout.grid_space, ', Local:', layout.local)"
     ],
     "language": "python",
     "metadata": {},
     "outputs": [
      {
       "output_type": "stream",
       "stream": "stdout",
       "text": [
        "Layout 0 : Grid space: [False False] , Local: [False  True]\n",
        "Layout 1 : Grid space: [False  True] , Local: [False  True]\n",
        "Layout 2 : Grid space: [False  True] , Local: [ True False]\n",
        "Layout 3 : Grid space: [ True  True] , Local: [ True False]\n"
       ]
      }
     ],
     "prompt_number": 20
    },
    {
     "cell_type": "markdown",
     "metadata": {},
     "source": [
      "We can see that there is an additional layout, corresponding to the transposed state of layout 1.  This global transpose is necessary so that the x axis is local, which is required in order to perform the x transform."
     ]
    },
    {
     "cell_type": "heading",
     "level": 3,
     "metadata": {},
     "source": [
      "Domain attributes"
     ]
    },
    {
     "cell_type": "markdown",
     "metadata": {},
     "source": [
      "Let's rebuild our previous domain before proceeding."
     ]
    },
    {
     "cell_type": "code",
     "collapsed": false,
     "input": [
      "xbasis = de.Fourier('x',16, interval=(0,2), dealias=3/2)\n",
      "ybasis = de.Chebyshev('y',16, interval=(0,1), dealias=3/2)\n",
      "domain = de.Domain([xbasis, ybasis], grid_dtype=np.float64, mesh=[1])"
     ],
     "language": "python",
     "metadata": {},
     "outputs": [
      {
       "output_type": "stream",
       "stream": "stderr",
       "text": [
        "DEBUG:domain:Global coeff shape: [ 8 16]\n"
       ]
      },
      {
       "output_type": "stream",
       "stream": "stderr",
       "text": [
        "DEBUG:distributor:Mesh: []\n"
       ]
      }
     ],
     "prompt_number": 21
    },
    {
     "cell_type": "markdown",
     "metadata": {},
     "source": [
      "Domain objects construct properly oriented and local (i.e. distributed when running in parallel) grids from the basis grids.  The first grid is a column-vector version of the Fourier (xbasis) grid:"
     ]
    },
    {
     "cell_type": "code",
     "collapsed": false,
     "input": [
      "domain.grid(0)"
     ],
     "language": "python",
     "metadata": {},
     "outputs": [
      {
       "metadata": {},
       "output_type": "pyout",
       "prompt_number": 22,
       "text": [
        "array([[ 0.   ],\n",
        "       [ 0.125],\n",
        "       [ 0.25 ],\n",
        "       [ 0.375],\n",
        "       [ 0.5  ],\n",
        "       [ 0.625],\n",
        "       [ 0.75 ],\n",
        "       [ 0.875],\n",
        "       [ 1.   ],\n",
        "       [ 1.125],\n",
        "       [ 1.25 ],\n",
        "       [ 1.375],\n",
        "       [ 1.5  ],\n",
        "       [ 1.625],\n",
        "       [ 1.75 ],\n",
        "       [ 1.875]])"
       ]
      }
     ],
     "prompt_number": 22
    },
    {
     "cell_type": "markdown",
     "metadata": {},
     "source": [
      "And the next is a row-vector version of the Chebyshev (ybasis) grid:"
     ]
    },
    {
     "cell_type": "code",
     "collapsed": false,
     "input": [
      "domain.grid(1)"
     ],
     "language": "python",
     "metadata": {},
     "outputs": [
      {
       "metadata": {},
       "output_type": "pyout",
       "prompt_number": 23,
       "text": [
        "array([[ 0.00240764,  0.02152983,  0.05903937,  0.11349477,  0.18280336,\n",
        "         0.26430163,  0.35485766,  0.45099143,  0.54900857,  0.64514234,\n",
        "         0.73569837,  0.81719664,  0.88650523,  0.94096063,  0.97847017,\n",
        "         0.99759236]])"
       ]
      }
     ],
     "prompt_number": 23
    },
    {
     "cell_type": "markdown",
     "metadata": {},
     "source": [
      "These grids are commonly used to e.g. construct initial conditions."
     ]
    },
    {
     "cell_type": "heading",
     "level": 1,
     "metadata": {},
     "source": [
      "Next: 2. Fields and Operators"
     ]
    }
   ],
   "metadata": {}
  }
 ]
}