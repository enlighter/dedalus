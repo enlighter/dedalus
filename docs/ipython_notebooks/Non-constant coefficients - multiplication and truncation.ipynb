{
 "metadata": {
  "name": "Non-constant coefficients - multiplication and truncation"
 },
 "nbformat": 3,
 "nbformat_minor": 0,
 "worksheets": [
  {
   "cells": [
    {
     "cell_type": "markdown",
     "metadata": {},
     "source": [
      "## Definitions ##\n",
      "\n",
      "$E$ is the T-to-U evaluation matrix, i.e. it returns the type-2 Chebyshev coefficients of a function specified by its type-1 Chebyshev coefficients.\n",
      "\n",
      "$D$ is the T-to-U differentiation matrix, i.e. it returns the type-2 Chebyshev coefficients of the derivative of a function specified by its type-1 Chebyshev coefficients.\n",
      "\n",
      "$N_p$ is the T-to-T multiplication matrix, i.e. it returns the type-1 Chebyshev coefficients of the product of $T_p$ and a function specified by its type-1 Chebyshev coefficients.\n",
      "\n",
      "$M_p$ is the U-to-U multiplication matrix, i.e. it returns the type-2 Chebyshev coefficients of the product of $T_p$ and a function specified by its type-2 Chebyshev coefficients.\n"
     ]
    },
    {
     "cell_type": "markdown",
     "metadata": {},
     "source": [
      "## Multiplication Test ##\n",
      "\n",
      "Consider the product: $T_1 \\cdot T_3$\n",
      "\n",
      "$T_1 = x$\n",
      "\n",
      "$T_3 = 4 x^3 - 3 x$\n",
      "\n",
      "$T_1 \\cdot T_3 = 4 x^4 - 3 x^2 = 0.25 U_4 - 0.25 U_0$\n",
      "\n",
      "Where\n",
      "\n",
      "$U_0 = 1$\n",
      "\n",
      "$U_4 = 16 x^4 - 12 x^2 + 1$\n",
      "\n",
      "Thus we might expect that performing the computations \n",
      "\n",
      "$Y_M = M_1.E.X$\n",
      "\n",
      "$Y_N = E.N_1.X$\n",
      "\n",
      "with \n",
      "\n",
      "$X = [0, 0, 0, 1, ...]$ \n",
      "\n",
      "will both yield \n",
      "\n",
      "$Y_M = Y_N = [-0.25, 0, 0, 0, 0.25, ...]$."
     ]
    },
    {
     "cell_type": "code",
     "collapsed": false,
     "input": [
      "# Import package\n",
      "from fluid_matrix.public import Chebyshev"
     ],
     "language": "python",
     "metadata": {},
     "outputs": [],
     "prompt_number": 12
    },
    {
     "cell_type": "code",
     "collapsed": false,
     "input": [
      "# Create basis object\n",
      "basis = Chebyshev(8)"
     ],
     "language": "python",
     "metadata": {},
     "outputs": [],
     "prompt_number": 13
    },
    {
     "cell_type": "code",
     "collapsed": false,
     "input": [
      "# Build matrices\n",
      "E = basis._build_Eval().todense()\n",
      "D = basis._build_Deriv().todense()\n",
      "M1 = basis._build_Mult(1).todense()\n",
      "N1 = basis._build_Mult1(1).todense()"
     ],
     "language": "python",
     "metadata": {},
     "outputs": [],
     "prompt_number": 14
    },
    {
     "cell_type": "code",
     "collapsed": false,
     "input": [
      "# Create type-1 coefficient array for T_3\n",
      "X = np.matrix([[0., 0., 0., 1., 0., 0., 0., 0.]]).T"
     ],
     "language": "python",
     "metadata": {},
     "outputs": [],
     "prompt_number": 15
    },
    {
     "cell_type": "code",
     "collapsed": false,
     "input": [
      "# Perform computation\n",
      "Y_M = M1 * E * X\n",
      "print Y_M"
     ],
     "language": "python",
     "metadata": {},
     "outputs": [
      {
       "output_type": "stream",
       "stream": "stdout",
       "text": [
        "[[-0.25+0.j]\n",
        " [ 0.00+0.j]\n",
        " [ 0.00+0.j]\n",
        " [ 0.00+0.j]\n",
        " [ 0.25+0.j]\n",
        " [ 0.00+0.j]\n",
        " [ 0.00+0.j]\n",
        " [ 0.00+0.j]]\n"
       ]
      }
     ],
     "prompt_number": 16
    },
    {
     "cell_type": "markdown",
     "metadata": {},
     "source": [
      "As expected."
     ]
    },
    {
     "cell_type": "code",
     "collapsed": false,
     "input": [
      "# Perform computation\n",
      "Y_N = E * N1 * X\n",
      "print Y_N"
     ],
     "language": "python",
     "metadata": {},
     "outputs": [
      {
       "output_type": "stream",
       "stream": "stdout",
       "text": [
        "[[-0.25+0.j]\n",
        " [ 0.00+0.j]\n",
        " [ 0.00+0.j]\n",
        " [ 0.00+0.j]\n",
        " [ 0.25+0.j]\n",
        " [ 0.00+0.j]\n",
        " [ 0.00+0.j]\n",
        " [ 0.00+0.j]]\n"
       ]
      }
     ],
     "prompt_number": 17
    },
    {
     "cell_type": "markdown",
     "metadata": {},
     "source": [
      "As expected."
     ]
    },
    {
     "cell_type": "markdown",
     "metadata": {},
     "source": [
      "## Truncation Test ##\n",
      "\n",
      "If we instead use a basis of size 4, however, we will see that the two approaches do not yield the same results.\n",
      "\n",
      "In this case we expect to get the 4-term truncation of the prevous answer, i.e.\n",
      "\n",
      "$Y_M = Y_N = [-0.25, 0, 0, 0]$"
     ]
    },
    {
     "cell_type": "code",
     "collapsed": false,
     "input": [
      "# Recreate basis object\n",
      "basis = Chebyshev(4)"
     ],
     "language": "python",
     "metadata": {},
     "outputs": [],
     "prompt_number": 27
    },
    {
     "cell_type": "code",
     "collapsed": false,
     "input": [
      "# Rebuild matrices\n",
      "E = basis._build_Eval().todense()\n",
      "D = basis._build_Deriv().todense()\n",
      "M1 = basis._build_Mult(1).todense()\n",
      "N1 = basis._build_Mult1(1).todense()"
     ],
     "language": "python",
     "metadata": {},
     "outputs": [],
     "prompt_number": 28
    },
    {
     "cell_type": "code",
     "collapsed": false,
     "input": [
      "# Create type-1 coefficient array for T_3\n",
      "X = np.matrix([[0., 0., 0., 1.]]).T"
     ],
     "language": "python",
     "metadata": {},
     "outputs": [],
     "prompt_number": 29
    },
    {
     "cell_type": "code",
     "collapsed": false,
     "input": [
      "# Perform computation\n",
      "Y_M = M1 * E * X\n",
      "print Y_M"
     ],
     "language": "python",
     "metadata": {},
     "outputs": [
      {
       "output_type": "stream",
       "stream": "stdout",
       "text": [
        "[[-0.25+0.j]\n",
        " [ 0.00+0.j]\n",
        " [ 0.00+0.j]\n",
        " [ 0.00+0.j]]\n"
       ]
      }
     ],
     "prompt_number": 30
    },
    {
     "cell_type": "markdown",
     "metadata": {},
     "source": [
      "As expected: this formulation yields the correctly truncated type-2 Chebyshev expansion of the product.  The evaluation operation accurately converts $T_3$ into a combination of $U_1$ and $U_3$.  The products of these factors with $T_1$ have power in $U_0$ and $U_2$, and $U_2$ and $U_4$, respectively.  However, the power in $U_2$ cancels, and the $U_4$ power is truncated off, yielding the final result just proportional to $U_0$."
     ]
    },
    {
     "cell_type": "code",
     "collapsed": false,
     "input": [
      "# Perform computation\n",
      "Y_N = E * N1 * X\n",
      "print Y_N"
     ],
     "language": "python",
     "metadata": {},
     "outputs": [
      {
       "output_type": "stream",
       "stream": "stdout",
       "text": [
        "[[-0.25+0.j]\n",
        " [ 0.00+0.j]\n",
        " [ 0.25+0.j]\n",
        " [ 0.00+0.j]]\n"
       ]
      }
     ],
     "prompt_number": 31
    },
    {
     "cell_type": "markdown",
     "metadata": {},
     "source": [
      "This formulation does not yield the correct solution.  The multiplication puts power into $T_2$ and $T_4$, but the power in $T_4$ is truncated off.  The evaluation operation therefore yields a result proportional to just the type-2 expansion of $T_2$, i.e. with power in both $U_0$ and $U_2$."
     ]
    }
   ],
   "metadata": {}
  }
 ]
}